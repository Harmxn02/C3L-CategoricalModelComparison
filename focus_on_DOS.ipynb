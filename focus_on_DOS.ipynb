{
 "cells": [
  {
   "cell_type": "markdown",
   "metadata": {},
   "source": [
    "# Categorical Model Comparison\n",
    "\n",
    "**only_DOS.ipynb**\n",
    "\n",
    "In this notebook we train a model focussing on DOS attack data, and export the model for use in the **categorical_model_comparison.ipynb** notebook.\n",
    "\n",
    "We will use a CNN-GAN model described in this study: <https://www.jait.us/articles/2024/JAIT-V15N7-886.pdf>\n",
    "\n",
    "Our dataset is the CIC-IDS-2017 dataset"
   ]
  },
  {
   "cell_type": "code",
   "execution_count": 1,
   "metadata": {},
   "outputs": [],
   "source": [
    "notebook = \"focus_on_DOS\""
   ]
  },
  {
   "cell_type": "code",
   "execution_count": 2,
   "metadata": {},
   "outputs": [],
   "source": [
    "import warnings\n",
    "from sklearn.exceptions import UndefinedMetricWarning\n",
    "warnings.filterwarnings(\"ignore\", category=UndefinedMetricWarning)"
   ]
  },
  {
   "cell_type": "markdown",
   "metadata": {},
   "source": [
    "## Step 1: Load the data"
   ]
  },
  {
   "cell_type": "code",
   "execution_count": 3,
   "metadata": {},
   "outputs": [],
   "source": [
    "import pandas as pd\n",
    "import numpy as np\n",
    "\n",
    "df = pd.read_csv(\"./data/concat.csv\")\n",
    "\n",
    "# Trim whitespace from column names\n",
    "df.columns = df.columns.str.strip()"
   ]
  },
  {
   "cell_type": "markdown",
   "metadata": {},
   "source": [
    "## Step 2: Preprocess the data"
   ]
  },
  {
   "cell_type": "markdown",
   "metadata": {},
   "source": [
    "### missing values"
   ]
  },
  {
   "cell_type": "code",
   "execution_count": 4,
   "metadata": {},
   "outputs": [
    {
     "data": {
      "text/plain": [
       "Flow Bytes/s                   1358\n",
       "Flow Duration                     0\n",
       "Destination Port                  0\n",
       "Total Backward Packets            0\n",
       "Total Length of Fwd Packets       0\n",
       "                               ... \n",
       "Idle Mean                         0\n",
       "Idle Std                          0\n",
       "Idle Max                          0\n",
       "Idle Min                          0\n",
       "Label                             0\n",
       "Length: 79, dtype: int64"
      ]
     },
     "execution_count": 4,
     "metadata": {},
     "output_type": "execute_result"
    }
   ],
   "source": [
    "df.isna().sum().sort_values(ascending=False)"
   ]
  },
  {
   "cell_type": "code",
   "execution_count": 5,
   "metadata": {},
   "outputs": [],
   "source": [
    "df.dropna(subset=[\"Flow Bytes/s\"], inplace=True)"
   ]
  },
  {
   "cell_type": "markdown",
   "metadata": {},
   "source": [
    "### Inf. values"
   ]
  },
  {
   "cell_type": "code",
   "execution_count": 6,
   "metadata": {},
   "outputs": [],
   "source": [
    "df = df.replace([np.inf, -np.inf], np.nan).dropna()"
   ]
  },
  {
   "cell_type": "code",
   "execution_count": 7,
   "metadata": {},
   "outputs": [
    {
     "data": {
      "text/plain": [
       "Destination Port               0\n",
       "Flow Duration                  0\n",
       "Total Fwd Packets              0\n",
       "Total Backward Packets         0\n",
       "Total Length of Fwd Packets    0\n",
       "                              ..\n",
       "Idle Mean                      0\n",
       "Idle Std                       0\n",
       "Idle Max                       0\n",
       "Idle Min                       0\n",
       "Label                          0\n",
       "Length: 79, dtype: int64"
      ]
     },
     "execution_count": 7,
     "metadata": {},
     "output_type": "execute_result"
    }
   ],
   "source": [
    "df.isna().sum().sort_values(ascending=False)"
   ]
  },
  {
   "cell_type": "markdown",
   "metadata": {},
   "source": [
    "## Step 3: Prepare the data for training"
   ]
  },
  {
   "cell_type": "markdown",
   "metadata": {},
   "source": [
    "### scaling numerical features"
   ]
  },
  {
   "cell_type": "code",
   "execution_count": 8,
   "metadata": {},
   "outputs": [],
   "source": [
    "from sklearn.preprocessing import MinMaxScaler\n",
    "\n",
    "numerical_columns = df.select_dtypes(include=\"number\").columns\n",
    "scaler = MinMaxScaler()\n",
    "df[numerical_columns] = scaler.fit_transform(df[numerical_columns])"
   ]
  },
  {
   "cell_type": "markdown",
   "metadata": {},
   "source": [
    "### map labels to multi-class"
   ]
  },
  {
   "cell_type": "markdown",
   "metadata": {},
   "source": [
    "**important**: Here we drop all the benign rows, so we are left with only the attacks."
   ]
  },
  {
   "cell_type": "code",
   "execution_count": 9,
   "metadata": {},
   "outputs": [
    {
     "data": {
      "text/plain": [
       "Label\n",
       "DoS Hulk            230124\n",
       "Others              176819\n",
       "DDoS                128025\n",
       "DoS GoldenEye        10293\n",
       "DoS slowloris         5796\n",
       "DoS Slowhttptest      5499\n",
       "Name: count, dtype: int64"
      ]
     },
     "execution_count": 9,
     "metadata": {},
     "output_type": "execute_result"
    }
   ],
   "source": [
    "df = df[df[\"Label\"] != \"BENIGN\"]\n",
    "\n",
    "# Keep these labels as is: DoS Hulk, DDoS, DoS GoldenEye, DoS slowloris, DoS Slowhttptest\n",
    "# Combine these labels into \"Others\"\n",
    "\n",
    "df[\"Label\"] = df[\"Label\"].replace([\"PortScan\", \"FTP-Patator\", \"SSH-Patator\", \"Bot\", \"Web Attack � Brute Force\", \"Web Attack � XSS\", \"Infiltration\", \"Web Attack � Sql Injection\", \"Heartbleed\"], \"Others\")\n",
    "df[\"Label\"].value_counts()"
   ]
  },
  {
   "cell_type": "code",
   "execution_count": 10,
   "metadata": {},
   "outputs": [],
   "source": [
    "attack_mapping = {\n",
    "\t\"DoS Hulk\": 0,\n",
    "\t\"Others\": 1,\n",
    "\t\"DDoS\": 2,\n",
    "\t\"DoS GoldenEye\": 3,\n",
    "\t\"DoS slowloris\": 4,\n",
    "\t\"DoS Slowhttptest\": 5,\n",
    "}\n",
    "\n",
    "df[\"Label\"] = df[\"Label\"].map(attack_mapping)"
   ]
  },
  {
   "cell_type": "code",
   "execution_count": 11,
   "metadata": {},
   "outputs": [
    {
     "data": {
      "text/plain": [
       "Label\n",
       "0    230124\n",
       "1    176819\n",
       "2    128025\n",
       "3     10293\n",
       "4      5796\n",
       "5      5499\n",
       "Name: count, dtype: int64"
      ]
     },
     "execution_count": 11,
     "metadata": {},
     "output_type": "execute_result"
    }
   ],
   "source": [
    "df[\"Label\"].value_counts()"
   ]
  },
  {
   "cell_type": "markdown",
   "metadata": {},
   "source": [
    "### data splitting"
   ]
  },
  {
   "cell_type": "code",
   "execution_count": 12,
   "metadata": {},
   "outputs": [],
   "source": [
    "df = df.drop_duplicates()\n",
    "\n",
    "X = df.drop(columns=[\"Label\"])\n",
    "y = df[\"Label\"]\n",
    "\n",
    "from sklearn.model_selection import train_test_split\n",
    "X_train, X_test, y_train, y_test = train_test_split(X, y, test_size=0.2, random_state=28)"
   ]
  },
  {
   "cell_type": "markdown",
   "metadata": {},
   "source": [
    "### data sampling"
   ]
  },
  {
   "cell_type": "code",
   "execution_count": 13,
   "metadata": {},
   "outputs": [],
   "source": [
    "# Undersample all values below 10.000\n",
    "from imblearn.under_sampling import RandomUnderSampler\n",
    "\n",
    "rus = RandomUnderSampler(sampling_strategy={\n",
    "\t0: 1000,\n",
    "\t1: 1000,\n",
    "\t2: 1000, \n",
    "\t3: 1000,\n",
    "\t4: 1000,\n",
    "\t5: 1000,\n",
    "}, random_state=28)\n",
    "\n",
    "rus_testset = RandomUnderSampler(sampling_strategy={\n",
    "\t0: 200,\n",
    "\t1: 200,\n",
    "\t2: 200, \n",
    "\t3: 200,\n",
    "\t4: 200,\n",
    "\t5: 200,\n",
    "}, random_state=28)\n",
    "\n",
    "X_train_balanced, y_train_balanced = rus.fit_resample(X_train, y_train)\n",
    "X_test_balanced, y_test_balanced = rus_testset.fit_resample(X_test, y_test)"
   ]
  },
  {
   "cell_type": "code",
   "execution_count": 14,
   "metadata": {},
   "outputs": [],
   "source": [
    "# # Oversample all values below 10.000\n",
    "# from imblearn.over_sampling import RandomOverSampler\n",
    "\n",
    "# ros = RandomOverSampler(sampling_strategy={\n",
    "# \t10: 1000,\n",
    "# \t11: 1000,\n",
    "# \t12: 1000,\n",
    "# \t13: 1000\n",
    "# }, random_state=28)\n",
    "\n",
    "# X_train_balanced, y_train_balanced = ros.fit_resample(X_train_balanced, y_train_balanced)"
   ]
  },
  {
   "cell_type": "code",
   "execution_count": 15,
   "metadata": {},
   "outputs": [
    {
     "name": "stdout",
     "output_type": "stream",
     "text": [
      "Class distribution before SMOTE: Counter({0: 138237, 2: 102539, 1: 83155, 3: 8209, 4: 4311, 5: 4141})\n",
      "Class distribution after SMOTE: Counter({0: 1000, 1: 1000, 2: 1000, 3: 1000, 4: 1000, 5: 1000})\n"
     ]
    }
   ],
   "source": [
    "# Check class distribution after SMOTE\n",
    "from collections import Counter\n",
    "\n",
    "print(f\"Class distribution before SMOTE: {Counter(y_train)}\")\n",
    "print(f\"Class distribution after SMOTE: {Counter(y_train_balanced)}\")"
   ]
  },
  {
   "cell_type": "markdown",
   "metadata": {},
   "source": [
    "## Step 4: Train the model"
   ]
  },
  {
   "cell_type": "markdown",
   "metadata": {},
   "source": [
    "### 1. CNN Feature Extractor"
   ]
  },
  {
   "cell_type": "code",
   "execution_count": 16,
   "metadata": {},
   "outputs": [],
   "source": [
    "import torch\n",
    "import torch.nn as nn\n",
    "import torch.optim as optim\n",
    "\n",
    "from torch.utils.data import DataLoader, TensorDataset\n",
    "from sklearn.metrics import accuracy_score, f1_score, classification_report\n",
    "\n",
    "# Define CNN Feature Extractor\n",
    "class CNNFeatureExtractor(nn.Module):\n",
    "    def __init__(self, input_size, num_filters=32):\n",
    "        super(CNNFeatureExtractor, self).__init__()\n",
    "        self.conv1 = nn.Conv1d(in_channels=1, out_channels=num_filters, kernel_size=3, stride=1, padding=1)\n",
    "        self.relu = nn.ReLU()\n",
    "        self.pool = nn.MaxPool1d(kernel_size=2, stride=2)\n",
    "        self.flatten = nn.Flatten()\n",
    "        self.fc = nn.Linear((input_size // 2) * num_filters, 64)\n",
    "    \n",
    "    def forward(self, x):\n",
    "        x = x.unsqueeze(1)  # Add channel dimension\n",
    "        x = self.conv1(x)\n",
    "        x = self.relu(x)\n",
    "        x = self.pool(x)\n",
    "        x = self.flatten(x)\n",
    "        return self.fc(x)"
   ]
  },
  {
   "cell_type": "markdown",
   "metadata": {},
   "source": [
    "### 2. Generator-Discriminator"
   ]
  },
  {
   "cell_type": "code",
   "execution_count": 17,
   "metadata": {},
   "outputs": [],
   "source": [
    "# Define Generator\n",
    "class Generator(nn.Module):\n",
    "    def __init__(self, noise_dim, output_dim):\n",
    "        super(Generator, self).__init__()\n",
    "        self.model = nn.Sequential(\n",
    "            nn.Linear(noise_dim, 128),\n",
    "            nn.ReLU(),\n",
    "            nn.Linear(128, output_dim),\n",
    "            nn.Tanh()\n",
    "        )\n",
    "    \n",
    "    def forward(self, x):\n",
    "        return self.model(x)\n",
    "\n",
    "\n",
    "# Define Discriminator\n",
    "class Discriminator(nn.Module):\n",
    "    def __init__(self, input_dim):\n",
    "        super(Discriminator, self).__init__()\n",
    "        self.model = nn.Sequential(\n",
    "            nn.Linear(input_dim, 128),\n",
    "            nn.ReLU(),\n",
    "            nn.Linear(128, 1),\n",
    "            nn.Sigmoid()\n",
    "        )\n",
    "    \n",
    "    def forward(self, x):\n",
    "        return self.model(x)"
   ]
  },
  {
   "cell_type": "markdown",
   "metadata": {},
   "source": [
    "### 3. Define Hybrid Model"
   ]
  },
  {
   "cell_type": "code",
   "execution_count": 18,
   "metadata": {},
   "outputs": [],
   "source": [
    "# Define Hybrid Model\n",
    "class HybridCNNGAN(nn.Module):\n",
    "    def __init__(self, input_size, output_size, noise_dim=32):\n",
    "        super(HybridCNNGAN, self).__init__()\n",
    "        self.feature_extractor = CNNFeatureExtractor(input_size)\n",
    "        self.classifier = nn.Linear(64, output_size)\n",
    "        self.generator = Generator(noise_dim, input_size)\n",
    "        self.discriminator = Discriminator(input_size)\n",
    "    \n",
    "    def forward(self, x):\n",
    "        features = self.feature_extractor(x)\n",
    "        return self.classifier(features)"
   ]
  },
  {
   "cell_type": "code",
   "execution_count": 19,
   "metadata": {},
   "outputs": [
    {
     "name": "stdout",
     "output_type": "stream",
     "text": [
      "------------------------------\n",
      "Model Summary\n",
      "------------------------------\n",
      "HybridCNNGAN(\n",
      "  (feature_extractor): CNNFeatureExtractor(\n",
      "    (conv1): Conv1d(1, 32, kernel_size=(3,), stride=(1,), padding=(1,))\n",
      "    (relu): ReLU()\n",
      "    (pool): MaxPool1d(kernel_size=2, stride=2, padding=0, dilation=1, ceil_mode=False)\n",
      "    (flatten): Flatten(start_dim=1, end_dim=-1)\n",
      "    (fc): Linear(in_features=1248, out_features=64, bias=True)\n",
      "  )\n",
      "  (classifier): Linear(in_features=64, out_features=6, bias=True)\n",
      "  (generator): Generator(\n",
      "    (model): Sequential(\n",
      "      (0): Linear(in_features=32, out_features=128, bias=True)\n",
      "      (1): ReLU()\n",
      "      (2): Linear(in_features=128, out_features=78, bias=True)\n",
      "      (3): Tanh()\n",
      "    )\n",
      "  )\n",
      "  (discriminator): Discriminator(\n",
      "    (model): Sequential(\n",
      "      (0): Linear(in_features=78, out_features=128, bias=True)\n",
      "      (1): ReLU()\n",
      "      (2): Linear(in_features=128, out_features=1, bias=True)\n",
      "      (3): Sigmoid()\n",
      "    )\n",
      "  )\n",
      ")\n",
      "------------------------------\n",
      "Device: cuda\n",
      "------------------------------\n"
     ]
    }
   ],
   "source": [
    "# Initialize model\n",
    "input_size = X_train_balanced.shape[1]\n",
    "output_size = len(attack_mapping)\n",
    "device = torch.device(\"cuda\" if torch.cuda.is_available() else \"cpu\")\n",
    "model = HybridCNNGAN(input_size, output_size).to(device)\n",
    "\n",
    "print(\"-\"*30)\n",
    "print(\"Model Summary\")\n",
    "print(\"-\"*30)\n",
    "print(model)\n",
    "print(\"-\"*30)\n",
    "print(\"Device:\", device)\n",
    "print(\"-\"*30)"
   ]
  },
  {
   "cell_type": "markdown",
   "metadata": {},
   "source": [
    "### 4. Train the model"
   ]
  },
  {
   "cell_type": "code",
   "execution_count": 20,
   "metadata": {},
   "outputs": [
    {
     "name": "stdout",
     "output_type": "stream",
     "text": [
      "Epoch [1/1000] - Loss: 1.1085 - Accuracy: 0.6240\n",
      "Epoch [2/1000] - Loss: 0.5113 - Accuracy: 0.8447\n",
      "Epoch [3/1000] - Loss: 0.3786 - Accuracy: 0.8597\n",
      "Epoch [4/1000] - Loss: 0.3062 - Accuracy: 0.8840\n",
      "Epoch [5/1000] - Loss: 0.2859 - Accuracy: 0.8855\n",
      "Epoch [6/1000] - Loss: 0.2632 - Accuracy: 0.8993\n",
      "Epoch [8/1000] - Loss: 0.2499 - Accuracy: 0.9060\n",
      "Epoch [9/1000] - Loss: 0.2298 - Accuracy: 0.9195\n",
      "Epoch [10/1000] - Loss: 0.2185 - Accuracy: 0.9195\n",
      "Epoch [11/1000] - Loss: 0.2112 - Accuracy: 0.9267\n",
      "Epoch [12/1000] - Loss: 0.2086 - Accuracy: 0.9265\n",
      "Epoch [13/1000] - Loss: 0.2022 - Accuracy: 0.9248\n",
      "Epoch [14/1000] - Loss: 0.1971 - Accuracy: 0.9357\n",
      "Epoch [15/1000] - Loss: 0.1858 - Accuracy: 0.9350\n",
      "Epoch [16/1000] - Loss: 0.1817 - Accuracy: 0.9422\n",
      "Epoch [17/1000] - Loss: 0.1661 - Accuracy: 0.9470\n",
      "Epoch [18/1000] - Loss: 0.1623 - Accuracy: 0.9522\n",
      "Epoch [19/1000] - Loss: 0.1527 - Accuracy: 0.9578\n",
      "Epoch [21/1000] - Loss: 0.1499 - Accuracy: 0.9583\n",
      "Epoch [22/1000] - Loss: 0.1424 - Accuracy: 0.9565\n",
      "Epoch [24/1000] - Loss: 0.1342 - Accuracy: 0.9583\n",
      "Epoch [25/1000] - Loss: 0.1288 - Accuracy: 0.9620\n",
      "Epoch [26/1000] - Loss: 0.1190 - Accuracy: 0.9687\n",
      "Epoch [27/1000] - Loss: 0.1155 - Accuracy: 0.9665\n",
      "Epoch [29/1000] - Loss: 0.1126 - Accuracy: 0.9695\n",
      "Epoch [31/1000] - Loss: 0.1092 - Accuracy: 0.9693\n",
      "Epoch [33/1000] - Loss: 0.0984 - Accuracy: 0.9725\n",
      "Epoch [37/1000] - Loss: 0.0981 - Accuracy: 0.9718\n",
      "Epoch [39/1000] - Loss: 0.0958 - Accuracy: 0.9727\n",
      "Epoch [40/1000] - Loss: 0.0868 - Accuracy: 0.9760\n",
      "Epoch [42/1000] - Loss: 0.0838 - Accuracy: 0.9748\n",
      "Epoch [44/1000] - Loss: 0.0836 - Accuracy: 0.9765\n",
      "Epoch [45/1000] - Loss: 0.0803 - Accuracy: 0.9770\n",
      "Epoch [47/1000] - Loss: 0.0798 - Accuracy: 0.9765\n",
      "Epoch [49/1000] - Loss: 0.0780 - Accuracy: 0.9772\n",
      "Epoch [50/1000] - Loss: 0.0764 - Accuracy: 0.9792\n",
      "Epoch [51/1000] - Loss: 0.0727 - Accuracy: 0.9782\n",
      "Epoch [56/1000] - Loss: 0.0709 - Accuracy: 0.9797\n",
      "Epoch [58/1000] - Loss: 0.0669 - Accuracy: 0.9807\n",
      "Epoch [59/1000] - Loss: 0.0669 - Accuracy: 0.9792\n",
      "Epoch [62/1000] - Loss: 0.0648 - Accuracy: 0.9798\n",
      "Epoch [67/1000] - Loss: 0.0641 - Accuracy: 0.9810\n",
      "Epoch [68/1000] - Loss: 0.0613 - Accuracy: 0.9812\n",
      "Epoch [71/1000] - Loss: 0.0609 - Accuracy: 0.9812\n",
      "Epoch [72/1000] - Loss: 0.0580 - Accuracy: 0.9827\n",
      "Epoch [73/1000] - Loss: 0.0568 - Accuracy: 0.9835\n",
      "Epoch [76/1000] - Loss: 0.0533 - Accuracy: 0.9842\n",
      "Epoch [79/1000] - Loss: 0.0525 - Accuracy: 0.9847\n",
      "Epoch [85/1000] - Loss: 0.0513 - Accuracy: 0.9848\n",
      "Epoch [89/1000] - Loss: 0.0503 - Accuracy: 0.9867\n",
      "Epoch [97/1000] - Loss: 0.0482 - Accuracy: 0.9857\n",
      "Epoch [104/1000] - Loss: 0.0476 - Accuracy: 0.9873\n",
      "Epoch [106/1000] - Loss: 0.0474 - Accuracy: 0.9845\n",
      "Epoch [112/1000] - Loss: 0.0462 - Accuracy: 0.9868\n",
      "Epoch [114/1000] - Loss: 0.0454 - Accuracy: 0.9862\n",
      "Epoch [116/1000] - Loss: 0.0452 - Accuracy: 0.9853\n",
      "Epoch [117/1000] - Loss: 0.0430 - Accuracy: 0.9867\n",
      "Epoch [118/1000] - Loss: 0.0420 - Accuracy: 0.9883\n",
      "Epoch [137/1000] - Loss: 0.0398 - Accuracy: 0.9883\n",
      "Epoch [141/1000] - Loss: 0.0396 - Accuracy: 0.9885\n",
      "Epoch [146/1000] - Loss: 0.0374 - Accuracy: 0.9883\n",
      "Epoch [153/1000] - Loss: 0.0363 - Accuracy: 0.9902\n",
      "Epoch [159/1000] - Loss: 0.0352 - Accuracy: 0.9892\n",
      "Epoch [167/1000] - Loss: 0.0349 - Accuracy: 0.9892\n",
      "Epoch [175/1000] - Loss: 0.0343 - Accuracy: 0.9907\n",
      "Epoch [177/1000] - Loss: 0.0331 - Accuracy: 0.9898\n",
      "Epoch [178/1000] - Loss: 0.0315 - Accuracy: 0.9915\n",
      "Epoch [190/1000] - Loss: 0.0310 - Accuracy: 0.9922\n",
      "Epoch [194/1000] - Loss: 0.0300 - Accuracy: 0.9920\n",
      "Epoch [204/1000] - Loss: 0.0296 - Accuracy: 0.9928\n",
      "Epoch [210/1000] - Loss: 0.0290 - Accuracy: 0.9923\n",
      "Epoch [213/1000] - Loss: 0.0289 - Accuracy: 0.9917\n",
      "Epoch [214/1000] - Loss: 0.0281 - Accuracy: 0.9925\n",
      "Epoch [219/1000] - Loss: 0.0272 - Accuracy: 0.9928\n",
      "Epoch [228/1000] - Loss: 0.0265 - Accuracy: 0.9922\n",
      "Epoch [233/1000] - Loss: 0.0265 - Accuracy: 0.9925\n",
      "Epoch [235/1000] - Loss: 0.0252 - Accuracy: 0.9928\n",
      "Epoch [255/1000] - Loss: 0.0241 - Accuracy: 0.9938\n",
      "Epoch [259/1000] - Loss: 0.0236 - Accuracy: 0.9935\n",
      "Epoch [264/1000] - Loss: 0.0226 - Accuracy: 0.9940\n",
      "Epoch [290/1000] - Loss: 0.0224 - Accuracy: 0.9932\n",
      "Epoch [296/1000] - Loss: 0.0211 - Accuracy: 0.9938\n",
      "Epoch [312/1000] - Loss: 0.0209 - Accuracy: 0.9948\n",
      "Epoch [328/1000] - Loss: 0.0208 - Accuracy: 0.9948\n",
      "Epoch [369/1000] - Loss: 0.0198 - Accuracy: 0.9953\n",
      "Epoch [385/1000] - Loss: 0.0189 - Accuracy: 0.9953\n",
      "Epoch [398/1000] - Loss: 0.0187 - Accuracy: 0.9953\n",
      "Epoch [412/1000] - Loss: 0.0180 - Accuracy: 0.9952\n",
      "Epoch [457/1000] - Loss: 0.0177 - Accuracy: 0.9958\n",
      "Epoch [465/1000] - Loss: 0.0176 - Accuracy: 0.9953\n",
      "Epoch [471/1000] - Loss: 0.0175 - Accuracy: 0.9957\n",
      "Early stopping triggered at epoch 521 due to no improvement.\n"
     ]
    }
   ],
   "source": [
    "# Early stopping setup\n",
    "early_stopping_patience = 50\n",
    "best_loss = float(\"inf\")\n",
    "epochs_without_improvement = 0\n",
    "\n",
    "# Training Setup\n",
    "criterion = nn.CrossEntropyLoss()\n",
    "optimizer = optim.Adam(model.parameters(), lr=0.001)\n",
    "train_dataset = TensorDataset(torch.tensor(X_train_balanced.values, dtype=torch.float32).to(device),\n",
    "                              torch.tensor(y_train_balanced.values, dtype=torch.long).to(device))\n",
    "train_loader = DataLoader(train_dataset, batch_size=64, shuffle=True)\n",
    "\n",
    "# Training Loop\n",
    "num_epochs = 1000\n",
    "for epoch in range(num_epochs):\n",
    "\tmodel.train()\n",
    "\ttotal_loss, correct, total = 0, 0, 0\n",
    "\tfor i, (data, labels) in enumerate(train_loader):\n",
    "\t\toptimizer.zero_grad()\n",
    "\t\toutputs = model(data)\n",
    "\t\tloss = criterion(outputs, labels)\n",
    "\t\t\n",
    "\t\tloss.backward()\n",
    "\t\toptimizer.step()\n",
    "\t\t\n",
    "\t\ttotal_loss += loss.item()\n",
    "\t\t_, predicted = torch.max(outputs.data, 1)\n",
    "\t\ttotal += labels.size(0)\n",
    "\t\t\n",
    "\t\tcorrect += (predicted == labels).sum().item()\n",
    "\t\tprogress = (i + 1) / len(train_loader) * 100\n",
    "\t\t\n",
    "\t\t# print(f'\\rEpoch [{epoch+1}/{num_epochs}] - Progress: {progress:.1f}%', end='')\n",
    "\n",
    "\tepoch_loss = total_loss / len(train_loader)\n",
    "\tepoch_accuracy = correct / total\n",
    "\n",
    "\t# print(f' - Loss: {epoch_loss:.4f} - Accuracy: {epoch_accuracy:.4f}')\n",
    "\n",
    "\t# Early Stopping Condition\n",
    "\tif epoch_loss < best_loss:\n",
    "\t\tbest_loss = epoch_loss\n",
    "\t\tepochs_without_improvement = 0\n",
    "\t\tprint(f\"Epoch [{epoch+1}/{num_epochs}] - Loss: {epoch_loss:.4f} - Accuracy: {epoch_accuracy:.4f}\")\n",
    "\telse:\n",
    "\t\tepochs_without_improvement += 1\n",
    "\t\tprint(f\"Epoch [{epoch+1}/{num_epochs}] - Loss: {epoch_loss:.4f} - Accuracy: {epoch_accuracy:.4f}\", end=\"\\r\")\n",
    "\t\n",
    "\tif epochs_without_improvement >= early_stopping_patience:\n",
    "\t\tprint(f\"Early stopping triggered at epoch {epoch+1} due to no improvement.\")\n",
    "\t\tbreak"
   ]
  },
  {
   "cell_type": "code",
   "execution_count": 21,
   "metadata": {},
   "outputs": [],
   "source": [
    "torch.save(model.state_dict(), f\"./models/{notebook}.pth\")"
   ]
  },
  {
   "cell_type": "markdown",
   "metadata": {},
   "source": [
    "-------------------\n",
    "\n",
    "## Evaluation"
   ]
  },
  {
   "cell_type": "code",
   "execution_count": 22,
   "metadata": {},
   "outputs": [
    {
     "name": "stdout",
     "output_type": "stream",
     "text": [
      "Accuracy: 0.9950\n",
      "F1 Score: 0.9950\n",
      "\n",
      "Classification Report:\n",
      "\n",
      "                  precision    recall  f1-score   support\n",
      "\n",
      "        DoS Hulk       0.99      0.99      0.99       200\n",
      "          Others       1.00      0.99      1.00       200\n",
      "            DDoS       1.00      1.00      1.00       200\n",
      "   DoS GoldenEye       0.99      1.00      0.99       200\n",
      "   DoS slowloris       0.99      0.99      0.99       200\n",
      "DoS Slowhttptest       1.00      0.98      0.99       200\n",
      "\n",
      "        accuracy                           0.99      1200\n",
      "       macro avg       1.00      1.00      1.00      1200\n",
      "    weighted avg       1.00      0.99      1.00      1200\n",
      "\n"
     ]
    }
   ],
   "source": [
    "model.eval()\n",
    "\n",
    "X_test_tensor = torch.tensor(X_test_balanced.values, dtype=torch.float32).to(device)\n",
    "y_test_tensor = torch.tensor(y_test_balanced.values, dtype=torch.long).to(device)\n",
    "\n",
    "with torch.no_grad():\n",
    "\toutputs = model(X_test_tensor)\n",
    "\t_, predicted = torch.max(outputs.data, 1)\n",
    "\n",
    "print(f\"Accuracy: {accuracy_score(y_test_tensor.cpu(), predicted.cpu()):.4f}\")\n",
    "print(f\"F1 Score: {f1_score(y_test_tensor.cpu(), predicted.cpu(), average=\"weighted\"):.4f}\")\n",
    "\n",
    "print(\"\\nClassification Report:\\n\")\n",
    "print(classification_report(y_test_tensor.cpu(), predicted.cpu(), target_names=attack_mapping))"
   ]
  }
 ],
 "metadata": {
  "kernelspec": {
   "display_name": "Python 3",
   "language": "python",
   "name": "python3"
  },
  "language_info": {
   "codemirror_mode": {
    "name": "ipython",
    "version": 3
   },
   "file_extension": ".py",
   "mimetype": "text/x-python",
   "name": "python",
   "nbconvert_exporter": "python",
   "pygments_lexer": "ipython3",
   "version": "3.12.9"
  }
 },
 "nbformat": 4,
 "nbformat_minor": 2
}
