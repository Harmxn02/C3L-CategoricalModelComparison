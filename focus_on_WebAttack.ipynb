{
 "cells": [
  {
   "cell_type": "markdown",
   "metadata": {},
   "source": [
    "# Categorical Model Comparison\n",
    "\n",
    "**only_DOS.ipynb**\n",
    "\n",
    "In this notebook we train a model focussing on WebAttack attack data, and export the model for use in the **categorical_model_comparison.ipynb** notebook.\n",
    "\n",
    "We will use a CNN-GAN model described in this study: <https://www.jait.us/articles/2024/JAIT-V15N7-886.pdf>\n",
    "\n",
    "Our dataset is the CIC-IDS-2017 dataset"
   ]
  },
  {
   "cell_type": "code",
   "execution_count": 1,
   "metadata": {},
   "outputs": [],
   "source": [
    "notebook = \"focus_on_WebAttack\""
   ]
  },
  {
   "cell_type": "code",
   "execution_count": 2,
   "metadata": {},
   "outputs": [],
   "source": [
    "import warnings\n",
    "from sklearn.exceptions import UndefinedMetricWarning\n",
    "warnings.filterwarnings(\"ignore\", category=UndefinedMetricWarning)"
   ]
  },
  {
   "cell_type": "markdown",
   "metadata": {},
   "source": [
    "## Step 1: Load the data"
   ]
  },
  {
   "cell_type": "code",
   "execution_count": 3,
   "metadata": {},
   "outputs": [],
   "source": [
    "import pandas as pd\n",
    "import numpy as np\n",
    "\n",
    "df = pd.read_csv(\"./data/concat.csv\")\n",
    "\n",
    "# Trim whitespace from column names\n",
    "df.columns = df.columns.str.strip()"
   ]
  },
  {
   "cell_type": "markdown",
   "metadata": {},
   "source": [
    "## Step 2: Preprocess the data"
   ]
  },
  {
   "cell_type": "markdown",
   "metadata": {},
   "source": [
    "### missing values"
   ]
  },
  {
   "cell_type": "code",
   "execution_count": 4,
   "metadata": {},
   "outputs": [
    {
     "data": {
      "text/plain": [
       "Flow Bytes/s                   1358\n",
       "Flow Duration                     0\n",
       "Destination Port                  0\n",
       "Total Backward Packets            0\n",
       "Total Length of Fwd Packets       0\n",
       "                               ... \n",
       "Idle Mean                         0\n",
       "Idle Std                          0\n",
       "Idle Max                          0\n",
       "Idle Min                          0\n",
       "Label                             0\n",
       "Length: 79, dtype: int64"
      ]
     },
     "execution_count": 4,
     "metadata": {},
     "output_type": "execute_result"
    }
   ],
   "source": [
    "df.isna().sum().sort_values(ascending=False)"
   ]
  },
  {
   "cell_type": "code",
   "execution_count": 5,
   "metadata": {},
   "outputs": [],
   "source": [
    "df.dropna(subset=[\"Flow Bytes/s\"], inplace=True)"
   ]
  },
  {
   "cell_type": "markdown",
   "metadata": {},
   "source": [
    "### Inf. values"
   ]
  },
  {
   "cell_type": "code",
   "execution_count": 6,
   "metadata": {},
   "outputs": [],
   "source": [
    "df = df.replace([np.inf, -np.inf], np.nan).dropna()"
   ]
  },
  {
   "cell_type": "code",
   "execution_count": 7,
   "metadata": {},
   "outputs": [
    {
     "data": {
      "text/plain": [
       "Destination Port               0\n",
       "Flow Duration                  0\n",
       "Total Fwd Packets              0\n",
       "Total Backward Packets         0\n",
       "Total Length of Fwd Packets    0\n",
       "                              ..\n",
       "Idle Mean                      0\n",
       "Idle Std                       0\n",
       "Idle Max                       0\n",
       "Idle Min                       0\n",
       "Label                          0\n",
       "Length: 79, dtype: int64"
      ]
     },
     "execution_count": 7,
     "metadata": {},
     "output_type": "execute_result"
    }
   ],
   "source": [
    "df.isna().sum().sort_values(ascending=False)"
   ]
  },
  {
   "cell_type": "markdown",
   "metadata": {},
   "source": [
    "## Step 3: Prepare the data for training"
   ]
  },
  {
   "cell_type": "markdown",
   "metadata": {},
   "source": [
    "### scaling numerical features"
   ]
  },
  {
   "cell_type": "code",
   "execution_count": 8,
   "metadata": {},
   "outputs": [],
   "source": [
    "from sklearn.preprocessing import MinMaxScaler\n",
    "\n",
    "numerical_columns = df.select_dtypes(include=\"number\").columns\n",
    "scaler = MinMaxScaler()\n",
    "df[numerical_columns] = scaler.fit_transform(df[numerical_columns])"
   ]
  },
  {
   "cell_type": "markdown",
   "metadata": {},
   "source": [
    "### map labels to multi-class"
   ]
  },
  {
   "cell_type": "markdown",
   "metadata": {},
   "source": [
    "**important**: Here we drop all the benign rows, so we are left with only the attacks."
   ]
  },
  {
   "cell_type": "code",
   "execution_count": 9,
   "metadata": {},
   "outputs": [
    {
     "data": {
      "text/plain": [
       "Label\n",
       "Others                        554376\n",
       "Web Attack � Brute Force        1507\n",
       "Web Attack � XSS                 652\n",
       "Web Attack � Sql Injection        21\n",
       "Name: count, dtype: int64"
      ]
     },
     "execution_count": 9,
     "metadata": {},
     "output_type": "execute_result"
    }
   ],
   "source": [
    "df = df[df[\"Label\"] != \"BENIGN\"]\n",
    "\n",
    "# Keep these labels as is: Web Attack � Brute Force, Web Attack � XSS, Web Attack � Sql Injection\n",
    "# Combine these labels into \"Others\"\n",
    "\n",
    "df[\"Label\"] = df[\"Label\"].replace([\"DoS Hulk\", \"PortScan\", \"DDoS\", \"DoS GoldenEye\", \"FTP-Patator\", \"SSH-Patator\", \"DoS slowloris\", \"DoS Slowhttptest\", \"Bot\", \"Infiltration\", \"Heartbleed\"], \"Others\")\n",
    "df[\"Label\"].value_counts()"
   ]
  },
  {
   "cell_type": "code",
   "execution_count": 10,
   "metadata": {},
   "outputs": [],
   "source": [
    "attack_mapping = {\n",
    "\t\"Others\": 0,\n",
    "\t\"Web Attack � Brute Force\": 1,\n",
    "\t\"Web Attack � XSS\": 2,\n",
    "\t\"Web Attack � Sql Injection\": 3,\n",
    "}\n",
    "\n",
    "df[\"Label\"] = df[\"Label\"].map(attack_mapping)"
   ]
  },
  {
   "cell_type": "code",
   "execution_count": 11,
   "metadata": {},
   "outputs": [
    {
     "data": {
      "text/plain": [
       "Label\n",
       "0    554376\n",
       "1      1507\n",
       "2       652\n",
       "3        21\n",
       "Name: count, dtype: int64"
      ]
     },
     "execution_count": 11,
     "metadata": {},
     "output_type": "execute_result"
    }
   ],
   "source": [
    "df[\"Label\"].value_counts()"
   ]
  },
  {
   "cell_type": "markdown",
   "metadata": {},
   "source": [
    "### data splitting"
   ]
  },
  {
   "cell_type": "code",
   "execution_count": 12,
   "metadata": {},
   "outputs": [],
   "source": [
    "X = df.drop(columns=[\"Label\"])\n",
    "y = df[\"Label\"]\n",
    "\n",
    "from sklearn.model_selection import train_test_split\n",
    "X_train, X_test, y_train, y_test = train_test_split(X, y, test_size=0.2, random_state=28)"
   ]
  },
  {
   "cell_type": "markdown",
   "metadata": {},
   "source": [
    "### data sampling"
   ]
  },
  {
   "cell_type": "code",
   "execution_count": 13,
   "metadata": {},
   "outputs": [],
   "source": [
    "# Undersample all values below 10.000\n",
    "from imblearn.under_sampling import RandomUnderSampler\n",
    "\n",
    "rus = RandomUnderSampler(sampling_strategy={\n",
    "\t0: 1000,\n",
    "\t1: 1000,\n",
    "}, random_state=28)\n",
    "\n",
    "rus_testset = RandomUnderSampler(sampling_strategy={\n",
    "\t0: 200,\n",
    "\t1: 200,\n",
    "}, random_state=28)\n",
    "\n",
    "X_train_balanced, y_train_balanced = rus.fit_resample(X_train, y_train)\n",
    "X_test_balanced, y_test_balanced = rus_testset.fit_resample(X_test, y_test)"
   ]
  },
  {
   "cell_type": "code",
   "execution_count": 14,
   "metadata": {},
   "outputs": [],
   "source": [
    "# Oversample all values below 10.000\n",
    "from imblearn.over_sampling import RandomOverSampler\n",
    "\n",
    "ros = RandomOverSampler(sampling_strategy={\n",
    "\t2: 1000,\n",
    "\t3: 1000,\n",
    "}, random_state=28)\n",
    "\n",
    "ros_testset = RandomOverSampler(sampling_strategy={\n",
    "\t2: 200,\n",
    "\t3: 200,\n",
    "}, random_state=28)\n",
    "\n",
    "X_train_balanced, y_train_balanced = ros.fit_resample(X_train_balanced, y_train_balanced)\n",
    "X_test_balanced, y_test_balanced = ros_testset.fit_resample(X_test_balanced, y_test_balanced)"
   ]
  },
  {
   "cell_type": "code",
   "execution_count": 15,
   "metadata": {},
   "outputs": [
    {
     "name": "stdout",
     "output_type": "stream",
     "text": [
      "Class distribution before SMOTE: Counter({0: 443475, 1: 1223, 2: 528, 3: 18})\n",
      "Class distribution after SMOTE: Counter({0: 1000, 1: 1000, 2: 1000, 3: 1000})\n"
     ]
    }
   ],
   "source": [
    "# Check class distribution after SMOTE\n",
    "from collections import Counter\n",
    "\n",
    "print(f\"Class distribution before SMOTE: {Counter(y_train)}\")\n",
    "print(f\"Class distribution after SMOTE: {Counter(y_train_balanced)}\")"
   ]
  },
  {
   "cell_type": "markdown",
   "metadata": {},
   "source": [
    "## Step 4: Train the model"
   ]
  },
  {
   "cell_type": "markdown",
   "metadata": {},
   "source": [
    "### 1. CNN Feature Extractor"
   ]
  },
  {
   "cell_type": "code",
   "execution_count": 16,
   "metadata": {},
   "outputs": [],
   "source": [
    "import torch\n",
    "import torch.nn as nn\n",
    "import torch.optim as optim\n",
    "\n",
    "from torch.utils.data import DataLoader, TensorDataset\n",
    "from sklearn.metrics import accuracy_score, f1_score, classification_report\n",
    "\n",
    "# Define CNN Feature Extractor\n",
    "class CNNFeatureExtractor(nn.Module):\n",
    "    def __init__(self, input_size, num_filters=32):\n",
    "        super(CNNFeatureExtractor, self).__init__()\n",
    "        self.conv1 = nn.Conv1d(in_channels=1, out_channels=num_filters, kernel_size=3, stride=1, padding=1)\n",
    "        self.relu = nn.ReLU()\n",
    "        self.pool = nn.MaxPool1d(kernel_size=2, stride=2)\n",
    "        self.flatten = nn.Flatten()\n",
    "        self.fc = nn.Linear((input_size // 2) * num_filters, 64)\n",
    "    \n",
    "    def forward(self, x):\n",
    "        x = x.unsqueeze(1)  # Add channel dimension\n",
    "        x = self.conv1(x)\n",
    "        x = self.relu(x)\n",
    "        x = self.pool(x)\n",
    "        x = self.flatten(x)\n",
    "        return self.fc(x)"
   ]
  },
  {
   "cell_type": "markdown",
   "metadata": {},
   "source": [
    "### 2. Generator-Discriminator"
   ]
  },
  {
   "cell_type": "code",
   "execution_count": 17,
   "metadata": {},
   "outputs": [],
   "source": [
    "# Define Generator\n",
    "class Generator(nn.Module):\n",
    "    def __init__(self, noise_dim, output_dim):\n",
    "        super(Generator, self).__init__()\n",
    "        self.model = nn.Sequential(\n",
    "            nn.Linear(noise_dim, 128),\n",
    "            nn.ReLU(),\n",
    "            nn.Linear(128, output_dim),\n",
    "            nn.Tanh()\n",
    "        )\n",
    "    \n",
    "    def forward(self, x):\n",
    "        return self.model(x)\n",
    "\n",
    "\n",
    "# Define Discriminator\n",
    "class Discriminator(nn.Module):\n",
    "    def __init__(self, input_dim):\n",
    "        super(Discriminator, self).__init__()\n",
    "        self.model = nn.Sequential(\n",
    "            nn.Linear(input_dim, 128),\n",
    "            nn.ReLU(),\n",
    "            nn.Linear(128, 1),\n",
    "            nn.Sigmoid()\n",
    "        )\n",
    "    \n",
    "    def forward(self, x):\n",
    "        return self.model(x)"
   ]
  },
  {
   "cell_type": "markdown",
   "metadata": {},
   "source": [
    "### 3. Define Hybrid Model"
   ]
  },
  {
   "cell_type": "code",
   "execution_count": 18,
   "metadata": {},
   "outputs": [],
   "source": [
    "# Define Hybrid Model\n",
    "class HybridCNNGAN(nn.Module):\n",
    "    def __init__(self, input_size, output_size, noise_dim=32):\n",
    "        super(HybridCNNGAN, self).__init__()\n",
    "        self.feature_extractor = CNNFeatureExtractor(input_size)\n",
    "        self.classifier = nn.Linear(64, output_size)\n",
    "        self.generator = Generator(noise_dim, input_size)\n",
    "        self.discriminator = Discriminator(input_size)\n",
    "    \n",
    "    def forward(self, x):\n",
    "        features = self.feature_extractor(x)\n",
    "        return self.classifier(features)"
   ]
  },
  {
   "cell_type": "code",
   "execution_count": 19,
   "metadata": {},
   "outputs": [
    {
     "name": "stdout",
     "output_type": "stream",
     "text": [
      "------------------------------\n",
      "Model Summary\n",
      "------------------------------\n",
      "HybridCNNGAN(\n",
      "  (feature_extractor): CNNFeatureExtractor(\n",
      "    (conv1): Conv1d(1, 32, kernel_size=(3,), stride=(1,), padding=(1,))\n",
      "    (relu): ReLU()\n",
      "    (pool): MaxPool1d(kernel_size=2, stride=2, padding=0, dilation=1, ceil_mode=False)\n",
      "    (flatten): Flatten(start_dim=1, end_dim=-1)\n",
      "    (fc): Linear(in_features=1248, out_features=64, bias=True)\n",
      "  )\n",
      "  (classifier): Linear(in_features=64, out_features=4, bias=True)\n",
      "  (generator): Generator(\n",
      "    (model): Sequential(\n",
      "      (0): Linear(in_features=32, out_features=128, bias=True)\n",
      "      (1): ReLU()\n",
      "      (2): Linear(in_features=128, out_features=78, bias=True)\n",
      "      (3): Tanh()\n",
      "    )\n",
      "  )\n",
      "  (discriminator): Discriminator(\n",
      "    (model): Sequential(\n",
      "      (0): Linear(in_features=78, out_features=128, bias=True)\n",
      "      (1): ReLU()\n",
      "      (2): Linear(in_features=128, out_features=1, bias=True)\n",
      "      (3): Sigmoid()\n",
      "    )\n",
      "  )\n",
      ")\n",
      "------------------------------\n",
      "Device: cuda\n",
      "------------------------------\n"
     ]
    }
   ],
   "source": [
    "# Initialize model\n",
    "input_size = X_train_balanced.shape[1]\n",
    "output_size = len(attack_mapping)\n",
    "device = torch.device(\"cuda\" if torch.cuda.is_available() else \"cpu\")\n",
    "model = HybridCNNGAN(input_size, output_size).to(device)\n",
    "\n",
    "print(\"-\"*30)\n",
    "print(\"Model Summary\")\n",
    "print(\"-\"*30)\n",
    "print(model)\n",
    "print(\"-\"*30)\n",
    "print(\"Device:\", device)\n",
    "print(\"-\"*30)"
   ]
  },
  {
   "cell_type": "markdown",
   "metadata": {},
   "source": [
    "### 4. Train the model"
   ]
  },
  {
   "cell_type": "code",
   "execution_count": null,
   "metadata": {},
   "outputs": [
    {
     "name": "stdout",
     "output_type": "stream",
     "text": [
      "Epoch [1/1000] - Loss: 1.1267 - Accuracy: 0.4662\n",
      "Epoch [2/1000] - Loss: 0.7874 - Accuracy: 0.6518\n",
      "Epoch [3/1000] - Loss: 0.6136 - Accuracy: 0.6975\n",
      "Epoch [4/1000] - Loss: 0.5457 - Accuracy: 0.7242\n",
      "Epoch [5/1000] - Loss: 0.5182 - Accuracy: 0.7360\n",
      "Epoch [6/1000] - Loss: 0.5015 - Accuracy: 0.7302\n",
      "Epoch [7/1000] - Loss: 0.4962 - Accuracy: 0.7282\n",
      "Epoch [9/1000] - Loss: 0.4922 - Accuracy: 0.7332\n",
      "Epoch [10/1000] - Loss: 0.4803 - Accuracy: 0.7382\n",
      "Epoch [11/1000] - Loss: 0.4783 - Accuracy: 0.7352\n",
      "Epoch [12/1000] - Loss: 0.4758 - Accuracy: 0.7418\n",
      "Epoch [13/1000] - Loss: 0.4691 - Accuracy: 0.7385\n",
      "Epoch [15/1000] - Loss: 0.4647 - Accuracy: 0.7378\n",
      "Epoch [16/1000] - Loss: 0.4640 - Accuracy: 0.7442\n",
      "Epoch [17/1000] - Loss: 0.4593 - Accuracy: 0.7428\n",
      "Epoch [21/1000] - Loss: 0.4549 - Accuracy: 0.7432\n",
      "Epoch [22/1000] - Loss: 0.4530 - Accuracy: 0.7480\n",
      "Epoch [23/1000] - Loss: 0.4523 - Accuracy: 0.7452\n",
      "Epoch [25/1000] - Loss: 0.4460 - Accuracy: 0.7498\n",
      "Epoch [26/1000] - Loss: 0.4446 - Accuracy: 0.7490\n",
      "Epoch [28/1000] - Loss: 0.4438 - Accuracy: 0.7520\n",
      "Epoch [36/1000] - Loss: 0.4398 - Accuracy: 0.7535\n",
      "Epoch [37/1000] - Loss: 0.4396 - Accuracy: 0.7525\n",
      "Epoch [38/1000] - Loss: 0.4394 - Accuracy: 0.7615\n",
      "Epoch [40/1000] - Loss: 0.4350 - Accuracy: 0.7468\n",
      "Epoch [41/1000] - Loss: 0.4339 - Accuracy: 0.7515\n",
      "Epoch [42/1000] - Loss: 0.4311 - Accuracy: 0.7538\n",
      "Epoch [47/1000] - Loss: 0.4279 - Accuracy: 0.7615\n",
      "Epoch [50/1000] - Loss: 0.4265 - Accuracy: 0.7530\n",
      "Epoch [52/1000] - Loss: 0.4259 - Accuracy: 0.7578\n",
      "Epoch [55/1000] - Loss: 0.4226 - Accuracy: 0.7562\n",
      "Epoch [63/1000] - Loss: 0.4204 - Accuracy: 0.7625\n",
      "Epoch [70/1000] - Loss: 0.4167 - Accuracy: 0.7740\n",
      "Epoch [81/1000] - Loss: 0.4158 - Accuracy: 0.7642\n",
      "Epoch [82/1000] - Loss: 0.4156 - Accuracy: 0.7605\n",
      "Epoch [88/1000] - Loss: 0.4152 - Accuracy: 0.7648\n",
      "Epoch [89/1000] - Loss: 0.4151 - Accuracy: 0.7665\n",
      "Epoch [90/1000] - Loss: 0.4118 - Accuracy: 0.7602\n",
      "Epoch [93/1000] - Loss: 0.4112 - Accuracy: 0.7648\n",
      "Epoch [99/1000] - Loss: 0.4073 - Accuracy: 0.7680\n",
      "Epoch [102/1000] - Loss: 0.4073 - Accuracy: 0.7735\n",
      "Epoch [106/1000] - Loss: 0.4057 - Accuracy: 0.7758\n",
      "Epoch [107/1000] - Loss: 0.4050 - Accuracy: 0.7732\n",
      "Epoch [114/1000] - Loss: 0.4023 - Accuracy: 0.7760\n",
      "Epoch [115/1000] - Loss: 0.4011 - Accuracy: 0.7718\n",
      "Epoch [128/1000] - Loss: 0.3985 - Accuracy: 0.7730\n",
      "Epoch [134/1000] - Loss: 0.3980 - Accuracy: 0.7870\n",
      "Epoch [135/1000] - Loss: 0.3943 - Accuracy: 0.7880\n",
      "Epoch [145/1000] - Loss: 0.3939 - Accuracy: 0.7758\n",
      "Epoch [147/1000] - Loss: 0.3930 - Accuracy: 0.7815\n",
      "Epoch [148/1000] - Loss: 0.3905 - Accuracy: 0.7860\n",
      "Epoch [165/1000] - Loss: 0.3900 - Accuracy: 0.7910\n",
      "Epoch [166/1000] - Loss: 0.3894 - Accuracy: 0.7780\n",
      "Epoch [171/1000] - Loss: 0.3893 - Accuracy: 0.7728\n",
      "Epoch [173/1000] - Loss: 0.3859 - Accuracy: 0.7953\n",
      "Epoch [180/1000] - Loss: 0.3857 - Accuracy: 0.7897\n",
      "Epoch [191/1000] - Loss: 0.3847 - Accuracy: 0.7925\n",
      "Epoch [201/1000] - Loss: 0.3826 - Accuracy: 0.7833\n",
      "Epoch [211/1000] - Loss: 0.3789 - Accuracy: 0.7935\n",
      "Epoch [223/1000] - Loss: 0.3778 - Accuracy: 0.7885\n",
      "Epoch [232/1000] - Loss: 0.3769 - Accuracy: 0.7915\n",
      "Epoch [235/1000] - Loss: 0.3764 - Accuracy: 0.7910\n",
      "Epoch [240/1000] - Loss: 0.3756 - Accuracy: 0.7935\n",
      "Epoch [242/1000] - Loss: 0.3750 - Accuracy: 0.7847\n",
      "Epoch [249/1000] - Loss: 0.3731 - Accuracy: 0.7965\n",
      "Epoch [258/1000] - Loss: 0.3725 - Accuracy: 0.8013\n",
      "Epoch [268/1000] - Loss: 0.3720 - Accuracy: 0.7903\n",
      "Epoch [278/1000] - Loss: 0.3716 - Accuracy: 0.8013\n",
      "Epoch [285/1000] - Loss: 0.3710 - Accuracy: 0.7963\n",
      "Epoch [296/1000] - Loss: 0.3698 - Accuracy: 0.8085\n",
      "Epoch [314/1000] - Loss: 0.3693 - Accuracy: 0.8030\n",
      "Epoch [322/1000] - Loss: 0.3684 - Accuracy: 0.7957\n",
      "Epoch [369/1000] - Loss: 0.3665 - Accuracy: 0.7927\n",
      "Epoch [422/1000] - Loss: 0.3659 - Accuracy: 0.8015\n",
      "Epoch [424/1000] - Loss: 0.3652 - Accuracy: 0.7950\n",
      "Epoch [446/1000] - Loss: 0.3651 - Accuracy: 0.7973\n",
      "Epoch [448/1000] - Loss: 0.3647 - Accuracy: 0.8153\n",
      "Epoch [500/1000] - Loss: 0.3639 - Accuracy: 0.8053\n",
      "Epoch [508/1000] - Loss: 0.3636 - Accuracy: 0.7977\n",
      "Epoch [510/1000] - Loss: 0.3625 - Accuracy: 0.7987\n",
      "Epoch [527/1000] - Loss: 0.3618 - Accuracy: 0.8070\n",
      "Epoch [564/1000] - Loss: 0.3618 - Accuracy: 0.8063\n",
      "Epoch [613/1000] - Loss: 0.3618 - Accuracy: 0.8003\n",
      "Epoch [614/1000] - Loss: 0.3606 - Accuracy: 0.8013\n",
      "Epoch [628/1000] - Loss: 0.3598 - Accuracy: 0.7990\n",
      "Epoch [723/1000] - Loss: 0.3596 - Accuracy: 0.7980\n",
      "Epoch [729/1000] - Loss: 0.3595 - Accuracy: 0.8063\n",
      "Epoch [761/1000] - Loss: 0.3583 - Accuracy: 0.7993\n",
      "Epoch [820/1000] - Loss: 0.3579 - Accuracy: 0.8063\n",
      "Epoch [852/1000] - Loss: 0.3566 - Accuracy: 0.8025\n",
      "Epoch [927/1000] - Loss: 0.3558 - Accuracy: 0.8133\n",
      "Epoch [1000/1000] - Loss: 0.3575 - Accuracy: 0.7987\r"
     ]
    }
   ],
   "source": [
    "# Early stopping setup\n",
    "early_stopping_patience = 800\n",
    "best_loss = float(\"inf\")\n",
    "epochs_without_improvement = 0\n",
    "\n",
    "# Training Setup\n",
    "criterion = nn.CrossEntropyLoss()\n",
    "optimizer = optim.Adam(model.parameters(), lr=0.001)\n",
    "train_dataset = TensorDataset(torch.tensor(X_train_balanced.values, dtype=torch.float32).to(device),\n",
    "                              torch.tensor(y_train_balanced.values, dtype=torch.long).to(device))\n",
    "train_loader = DataLoader(train_dataset, batch_size=64, shuffle=True)\n",
    "\n",
    "# Training Loop\n",
    "num_epochs = 1000\n",
    "for epoch in range(num_epochs):\n",
    "\tmodel.train()\n",
    "\ttotal_loss, correct, total = 0, 0, 0\n",
    "\tfor i, (data, labels) in enumerate(train_loader):\n",
    "\t\toptimizer.zero_grad()\n",
    "\t\toutputs = model(data)\n",
    "\t\tloss = criterion(outputs, labels)\n",
    "\t\t\n",
    "\t\tloss.backward()\n",
    "\t\toptimizer.step()\n",
    "\t\t\n",
    "\t\ttotal_loss += loss.item()\n",
    "\t\t_, predicted = torch.max(outputs.data, 1)\n",
    "\t\ttotal += labels.size(0)\n",
    "\t\t\n",
    "\t\tcorrect += (predicted == labels).sum().item()\n",
    "\t\tprogress = (i + 1) / len(train_loader) * 100\n",
    "\t\t\n",
    "\t\t# print(f'\\rEpoch [{epoch+1}/{num_epochs}] - Progress: {progress:.1f}%', end='')\n",
    "\n",
    "\tepoch_loss = total_loss / len(train_loader)\n",
    "\tepoch_accuracy = correct / total\n",
    "\n",
    "\t# print(f' - Loss: {epoch_loss:.4f} - Accuracy: {epoch_accuracy:.4f}')\n",
    "\n",
    "\t# Early Stopping Condition\n",
    "\tif epoch_loss < best_loss:\n",
    "\t\tbest_loss = epoch_loss\n",
    "\t\tepochs_without_improvement = 0\n",
    "\t\tprint(f\"Epoch [{epoch+1}/{num_epochs}] - Loss: {epoch_loss:.4f} - Accuracy: {epoch_accuracy:.4f}\")\n",
    "\telse:\n",
    "\t\tepochs_without_improvement += 1\n",
    "\t\tprint(f\"Epoch [{epoch+1}/{num_epochs}] - Loss: {epoch_loss:.4f} - Accuracy: {epoch_accuracy:.4f}\", end=\"\\r\")\n",
    "\t\n",
    "\tif epochs_without_improvement >= early_stopping_patience:\n",
    "\t\tprint(f\"Early stopping triggered at epoch {epoch+1} due to no improvement.\")\n",
    "\t\tbreak"
   ]
  },
  {
   "cell_type": "code",
   "execution_count": 21,
   "metadata": {},
   "outputs": [],
   "source": [
    "torch.save(model.state_dict(), f\"./models/{notebook}.pth\")"
   ]
  },
  {
   "cell_type": "markdown",
   "metadata": {},
   "source": [
    "-------------------\n",
    "\n",
    "## Evaluation"
   ]
  },
  {
   "cell_type": "code",
   "execution_count": 22,
   "metadata": {},
   "outputs": [
    {
     "name": "stdout",
     "output_type": "stream",
     "text": [
      "Accuracy: 0.7950\n",
      "F1 Score: 0.7849\n",
      "\n",
      "Classification Report:\n",
      "\n",
      "                            precision    recall  f1-score   support\n",
      "\n",
      "                    Others       1.00      0.99      0.99       200\n",
      "  Web Attack � Brute Force       0.66      0.41      0.50       200\n",
      "          Web Attack � XSS       0.59      0.79      0.67       200\n",
      "Web Attack � Sql Injection       0.94      1.00      0.97       200\n",
      "\n",
      "                  accuracy                           0.80       800\n",
      "                 macro avg       0.80      0.80      0.78       800\n",
      "              weighted avg       0.80      0.80      0.78       800\n",
      "\n"
     ]
    }
   ],
   "source": [
    "model.eval()\n",
    "\n",
    "X_test_tensor = torch.tensor(X_test_balanced.values, dtype=torch.float32).to(device)\n",
    "y_test_tensor = torch.tensor(y_test_balanced.values, dtype=torch.long).to(device)\n",
    "\n",
    "with torch.no_grad():\n",
    "\toutputs = model(X_test_tensor)\n",
    "\t_, predicted = torch.max(outputs.data, 1)\n",
    "\n",
    "print(f\"Accuracy: {accuracy_score(y_test_tensor.cpu(), predicted.cpu()):.4f}\")\n",
    "print(f\"F1 Score: {f1_score(y_test_tensor.cpu(), predicted.cpu(), average=\"weighted\"):.4f}\")\n",
    "\n",
    "print(\"\\nClassification Report:\\n\")\n",
    "print(classification_report(y_test_tensor.cpu(), predicted.cpu(), target_names=attack_mapping))"
   ]
  }
 ],
 "metadata": {
  "kernelspec": {
   "display_name": "Python 3",
   "language": "python",
   "name": "python3"
  },
  "language_info": {
   "codemirror_mode": {
    "name": "ipython",
    "version": 3
   },
   "file_extension": ".py",
   "mimetype": "text/x-python",
   "name": "python",
   "nbconvert_exporter": "python",
   "pygments_lexer": "ipython3",
   "version": "3.12.9"
  }
 },
 "nbformat": 4,
 "nbformat_minor": 2
}
