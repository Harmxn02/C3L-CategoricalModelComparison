{
 "cells": [
  {
   "cell_type": "markdown",
   "metadata": {},
   "source": [
    "# Categorical Model Comparison\n",
    "\n",
    "**only_DOS.ipynb**\n",
    "\n",
    "In this notebook we train a model focussing on WebAttack attack data, and export the model for use in the **categorical_model_comparison.ipynb** notebook.\n",
    "\n",
    "We will use a CNN-GAN model described in this study: <https://www.jait.us/articles/2024/JAIT-V15N7-886.pdf>\n",
    "\n",
    "Our dataset is the CIC-IDS-2017 dataset"
   ]
  },
  {
   "cell_type": "code",
   "execution_count": 23,
   "metadata": {},
   "outputs": [],
   "source": [
    "notebook = \"focus_on_WebAttack\""
   ]
  },
  {
   "cell_type": "code",
   "execution_count": 24,
   "metadata": {},
   "outputs": [],
   "source": [
    "import warnings\n",
    "from sklearn.exceptions import UndefinedMetricWarning\n",
    "warnings.filterwarnings(\"ignore\", category=UndefinedMetricWarning)"
   ]
  },
  {
   "cell_type": "markdown",
   "metadata": {},
   "source": [
    "## Step 1: Load the data"
   ]
  },
  {
   "cell_type": "code",
   "execution_count": 25,
   "metadata": {},
   "outputs": [],
   "source": [
    "import pandas as pd\n",
    "import numpy as np\n",
    "\n",
    "df = pd.read_csv(\"./data/concat.csv\")\n",
    "\n",
    "# Trim whitespace from column names\n",
    "df.columns = df.columns.str.strip()"
   ]
  },
  {
   "cell_type": "markdown",
   "metadata": {},
   "source": [
    "## Step 2: Preprocess the data"
   ]
  },
  {
   "cell_type": "markdown",
   "metadata": {},
   "source": [
    "### missing values"
   ]
  },
  {
   "cell_type": "code",
   "execution_count": 26,
   "metadata": {},
   "outputs": [
    {
     "data": {
      "text/plain": [
       "Flow Bytes/s                   1358\n",
       "Flow Duration                     0\n",
       "Destination Port                  0\n",
       "Total Backward Packets            0\n",
       "Total Length of Fwd Packets       0\n",
       "                               ... \n",
       "Idle Mean                         0\n",
       "Idle Std                          0\n",
       "Idle Max                          0\n",
       "Idle Min                          0\n",
       "Label                             0\n",
       "Length: 79, dtype: int64"
      ]
     },
     "execution_count": 26,
     "metadata": {},
     "output_type": "execute_result"
    }
   ],
   "source": [
    "df.isna().sum().sort_values(ascending=False)"
   ]
  },
  {
   "cell_type": "code",
   "execution_count": 27,
   "metadata": {},
   "outputs": [],
   "source": [
    "df.dropna(subset=[\"Flow Bytes/s\"], inplace=True)"
   ]
  },
  {
   "cell_type": "markdown",
   "metadata": {},
   "source": [
    "### Inf. values"
   ]
  },
  {
   "cell_type": "code",
   "execution_count": 28,
   "metadata": {},
   "outputs": [],
   "source": [
    "df = df.replace([np.inf, -np.inf], np.nan).dropna()"
   ]
  },
  {
   "cell_type": "code",
   "execution_count": 29,
   "metadata": {},
   "outputs": [
    {
     "data": {
      "text/plain": [
       "Destination Port               0\n",
       "Flow Duration                  0\n",
       "Total Fwd Packets              0\n",
       "Total Backward Packets         0\n",
       "Total Length of Fwd Packets    0\n",
       "                              ..\n",
       "Idle Mean                      0\n",
       "Idle Std                       0\n",
       "Idle Max                       0\n",
       "Idle Min                       0\n",
       "Label                          0\n",
       "Length: 79, dtype: int64"
      ]
     },
     "execution_count": 29,
     "metadata": {},
     "output_type": "execute_result"
    }
   ],
   "source": [
    "df.isna().sum().sort_values(ascending=False)"
   ]
  },
  {
   "cell_type": "markdown",
   "metadata": {},
   "source": [
    "## Step 3: Prepare the data for training"
   ]
  },
  {
   "cell_type": "markdown",
   "metadata": {},
   "source": [
    "### scaling numerical features"
   ]
  },
  {
   "cell_type": "code",
   "execution_count": 30,
   "metadata": {},
   "outputs": [],
   "source": [
    "from sklearn.preprocessing import MinMaxScaler\n",
    "\n",
    "numerical_columns = df.select_dtypes(include=\"number\").columns\n",
    "scaler = MinMaxScaler()\n",
    "df[numerical_columns] = scaler.fit_transform(df[numerical_columns])"
   ]
  },
  {
   "cell_type": "markdown",
   "metadata": {},
   "source": [
    "### map labels to multi-class"
   ]
  },
  {
   "cell_type": "markdown",
   "metadata": {},
   "source": [
    "**important**: Here we drop all the benign rows, so we are left with only the attacks."
   ]
  },
  {
   "cell_type": "code",
   "execution_count": 31,
   "metadata": {},
   "outputs": [
    {
     "data": {
      "text/plain": [
       "Label\n",
       "Others                        554376\n",
       "Web Attack � Brute Force        1507\n",
       "Web Attack � XSS                 652\n",
       "Web Attack � Sql Injection        21\n",
       "Name: count, dtype: int64"
      ]
     },
     "execution_count": 31,
     "metadata": {},
     "output_type": "execute_result"
    }
   ],
   "source": [
    "df = df[df[\"Label\"] != \"BENIGN\"]\n",
    "\n",
    "# Keep these labels as is: Web Attack � Brute Force, Web Attack � XSS, Web Attack � Sql Injection\n",
    "# Combine these labels into \"Others\"\n",
    "\n",
    "df[\"Label\"] = df[\"Label\"].replace([\"DoS Hulk\", \"PortScan\", \"DDoS\", \"DoS GoldenEye\", \"FTP-Patator\", \"SSH-Patator\", \"DoS slowloris\", \"DoS Slowhttptest\", \"Bot\", \"Infiltration\", \"Heartbleed\"], \"Others\")\n",
    "df[\"Label\"].value_counts()"
   ]
  },
  {
   "cell_type": "code",
   "execution_count": 32,
   "metadata": {},
   "outputs": [],
   "source": [
    "attack_mapping = {\n",
    "\t\"Others\": 0,\n",
    "\t\"Web Attack � Brute Force\": 1,\n",
    "\t\"Web Attack � XSS\": 2,\n",
    "\t\"Web Attack � Sql Injection\": 3,\n",
    "}\n",
    "\n",
    "df[\"Label\"] = df[\"Label\"].map(attack_mapping)"
   ]
  },
  {
   "cell_type": "code",
   "execution_count": 33,
   "metadata": {},
   "outputs": [
    {
     "data": {
      "text/plain": [
       "Label\n",
       "0    554376\n",
       "1      1507\n",
       "2       652\n",
       "3        21\n",
       "Name: count, dtype: int64"
      ]
     },
     "execution_count": 33,
     "metadata": {},
     "output_type": "execute_result"
    }
   ],
   "source": [
    "df[\"Label\"].value_counts()"
   ]
  },
  {
   "cell_type": "markdown",
   "metadata": {},
   "source": [
    "### data splitting"
   ]
  },
  {
   "cell_type": "code",
   "execution_count": 34,
   "metadata": {},
   "outputs": [],
   "source": [
    "df = df.drop_duplicates()"
   ]
  },
  {
   "cell_type": "code",
   "execution_count": 35,
   "metadata": {},
   "outputs": [],
   "source": [
    "X = df.drop(columns=[\"Label\"])\n",
    "y = df[\"Label\"]\n",
    "\n",
    "from sklearn.model_selection import train_test_split\n",
    "X_train, X_test, y_train, y_test = train_test_split(X, y, test_size=0.2, random_state=28)"
   ]
  },
  {
   "cell_type": "markdown",
   "metadata": {},
   "source": [
    "### data sampling"
   ]
  },
  {
   "cell_type": "code",
   "execution_count": 36,
   "metadata": {},
   "outputs": [],
   "source": [
    "# Undersample all values below 10.000\n",
    "from imblearn.under_sampling import RandomUnderSampler\n",
    "\n",
    "rus = RandomUnderSampler(sampling_strategy={\n",
    "\t0: 1000,\n",
    "\t1: 1000,\n",
    "}, random_state=28)\n",
    "\n",
    "rus_testset = RandomUnderSampler(sampling_strategy={\n",
    "\t0: 200,\n",
    "\t1: 200,\n",
    "}, random_state=28)\n",
    "\n",
    "X_train_balanced, y_train_balanced = rus.fit_resample(X_train, y_train)\n",
    "X_test_balanced, y_test_balanced = rus_testset.fit_resample(X_test, y_test)"
   ]
  },
  {
   "cell_type": "code",
   "execution_count": 37,
   "metadata": {},
   "outputs": [],
   "source": [
    "# Oversample all values below 10.000\n",
    "from imblearn.over_sampling import RandomOverSampler\n",
    "\n",
    "ros = RandomOverSampler(sampling_strategy={\n",
    "\t2: 1000,\n",
    "\t3: 1000,\n",
    "}, random_state=28)\n",
    "\n",
    "ros_testset = RandomOverSampler(sampling_strategy={\n",
    "\t2: 200,\n",
    "\t3: 200,\n",
    "}, random_state=28)\n",
    "\n",
    "X_train_balanced, y_train_balanced = ros.fit_resample(X_train_balanced, y_train_balanced)\n",
    "X_test_balanced, y_test_balanced = ros_testset.fit_resample(X_test_balanced, y_test_balanced)"
   ]
  },
  {
   "cell_type": "code",
   "execution_count": 38,
   "metadata": {},
   "outputs": [
    {
     "name": "stdout",
     "output_type": "stream",
     "text": [
      "Class distribution before SMOTE: Counter({0: 338877, 1: 1168, 2: 529, 3: 18})\n",
      "Class distribution after SMOTE: Counter({0: 1000, 1: 1000, 2: 1000, 3: 1000})\n"
     ]
    }
   ],
   "source": [
    "# Check class distribution after SMOTE\n",
    "from collections import Counter\n",
    "\n",
    "print(f\"Class distribution before SMOTE: {Counter(y_train)}\")\n",
    "print(f\"Class distribution after SMOTE: {Counter(y_train_balanced)}\")"
   ]
  },
  {
   "cell_type": "markdown",
   "metadata": {},
   "source": [
    "## Step 4: Train the model"
   ]
  },
  {
   "cell_type": "markdown",
   "metadata": {},
   "source": [
    "### 1. CNN Feature Extractor"
   ]
  },
  {
   "cell_type": "code",
   "execution_count": 39,
   "metadata": {},
   "outputs": [],
   "source": [
    "import torch\n",
    "import torch.nn as nn\n",
    "import torch.optim as optim\n",
    "\n",
    "from torch.utils.data import DataLoader, TensorDataset\n",
    "from sklearn.metrics import accuracy_score, f1_score, classification_report\n",
    "\n",
    "# Define CNN Feature Extractor\n",
    "class CNNFeatureExtractor(nn.Module):\n",
    "    def __init__(self, input_size, num_filters=32):\n",
    "        super(CNNFeatureExtractor, self).__init__()\n",
    "        self.conv1 = nn.Conv1d(in_channels=1, out_channels=num_filters, kernel_size=3, stride=1, padding=1)\n",
    "        self.relu = nn.ReLU()\n",
    "        self.pool = nn.MaxPool1d(kernel_size=2, stride=2)\n",
    "        self.flatten = nn.Flatten()\n",
    "        self.fc = nn.Linear((input_size // 2) * num_filters, 64)\n",
    "    \n",
    "    def forward(self, x):\n",
    "        x = x.unsqueeze(1)  # Add channel dimension\n",
    "        x = self.conv1(x)\n",
    "        x = self.relu(x)\n",
    "        x = self.pool(x)\n",
    "        x = self.flatten(x)\n",
    "        return self.fc(x)"
   ]
  },
  {
   "cell_type": "markdown",
   "metadata": {},
   "source": [
    "### 2. Generator-Discriminator"
   ]
  },
  {
   "cell_type": "code",
   "execution_count": 40,
   "metadata": {},
   "outputs": [],
   "source": [
    "# Define Generator\n",
    "class Generator(nn.Module):\n",
    "    def __init__(self, noise_dim, output_dim):\n",
    "        super(Generator, self).__init__()\n",
    "        self.model = nn.Sequential(\n",
    "            nn.Linear(noise_dim, 128),\n",
    "            nn.ReLU(),\n",
    "            nn.Linear(128, output_dim),\n",
    "            nn.Tanh()\n",
    "        )\n",
    "    \n",
    "    def forward(self, x):\n",
    "        return self.model(x)\n",
    "\n",
    "\n",
    "# Define Discriminator\n",
    "class Discriminator(nn.Module):\n",
    "    def __init__(self, input_dim):\n",
    "        super(Discriminator, self).__init__()\n",
    "        self.model = nn.Sequential(\n",
    "            nn.Linear(input_dim, 128),\n",
    "            nn.ReLU(),\n",
    "            nn.Linear(128, 1),\n",
    "            nn.Sigmoid()\n",
    "        )\n",
    "    \n",
    "    def forward(self, x):\n",
    "        return self.model(x)"
   ]
  },
  {
   "cell_type": "markdown",
   "metadata": {},
   "source": [
    "### 3. Define Hybrid Model"
   ]
  },
  {
   "cell_type": "code",
   "execution_count": 41,
   "metadata": {},
   "outputs": [],
   "source": [
    "# Define Hybrid Model\n",
    "class HybridCNNGAN(nn.Module):\n",
    "    def __init__(self, input_size, output_size, noise_dim=32):\n",
    "        super(HybridCNNGAN, self).__init__()\n",
    "        self.feature_extractor = CNNFeatureExtractor(input_size)\n",
    "        self.classifier = nn.Linear(64, output_size)\n",
    "        self.generator = Generator(noise_dim, input_size)\n",
    "        self.discriminator = Discriminator(input_size)\n",
    "    \n",
    "    def forward(self, x):\n",
    "        features = self.feature_extractor(x)\n",
    "        return self.classifier(features)"
   ]
  },
  {
   "cell_type": "code",
   "execution_count": 42,
   "metadata": {},
   "outputs": [
    {
     "name": "stdout",
     "output_type": "stream",
     "text": [
      "------------------------------\n",
      "Model Summary\n",
      "------------------------------\n",
      "HybridCNNGAN(\n",
      "  (feature_extractor): CNNFeatureExtractor(\n",
      "    (conv1): Conv1d(1, 32, kernel_size=(3,), stride=(1,), padding=(1,))\n",
      "    (relu): ReLU()\n",
      "    (pool): MaxPool1d(kernel_size=2, stride=2, padding=0, dilation=1, ceil_mode=False)\n",
      "    (flatten): Flatten(start_dim=1, end_dim=-1)\n",
      "    (fc): Linear(in_features=1248, out_features=64, bias=True)\n",
      "  )\n",
      "  (classifier): Linear(in_features=64, out_features=4, bias=True)\n",
      "  (generator): Generator(\n",
      "    (model): Sequential(\n",
      "      (0): Linear(in_features=32, out_features=128, bias=True)\n",
      "      (1): ReLU()\n",
      "      (2): Linear(in_features=128, out_features=78, bias=True)\n",
      "      (3): Tanh()\n",
      "    )\n",
      "  )\n",
      "  (discriminator): Discriminator(\n",
      "    (model): Sequential(\n",
      "      (0): Linear(in_features=78, out_features=128, bias=True)\n",
      "      (1): ReLU()\n",
      "      (2): Linear(in_features=128, out_features=1, bias=True)\n",
      "      (3): Sigmoid()\n",
      "    )\n",
      "  )\n",
      ")\n",
      "------------------------------\n",
      "Device: cuda\n",
      "------------------------------\n"
     ]
    }
   ],
   "source": [
    "# Initialize model\n",
    "input_size = X_train_balanced.shape[1]\n",
    "output_size = len(attack_mapping)\n",
    "device = torch.device(\"cuda\" if torch.cuda.is_available() else \"cpu\")\n",
    "model = HybridCNNGAN(input_size, output_size).to(device)\n",
    "\n",
    "print(\"-\"*30)\n",
    "print(\"Model Summary\")\n",
    "print(\"-\"*30)\n",
    "print(model)\n",
    "print(\"-\"*30)\n",
    "print(\"Device:\", device)\n",
    "print(\"-\"*30)"
   ]
  },
  {
   "cell_type": "markdown",
   "metadata": {},
   "source": [
    "### 4. Train the model"
   ]
  },
  {
   "cell_type": "code",
   "execution_count": 43,
   "metadata": {},
   "outputs": [
    {
     "name": "stdout",
     "output_type": "stream",
     "text": [
      "Epoch [1/1000] - Loss: 1.0003 - Accuracy: 0.5252\n",
      "Epoch [2/1000] - Loss: 0.7038 - Accuracy: 0.6657\n",
      "Epoch [3/1000] - Loss: 0.5788 - Accuracy: 0.7060\n",
      "Epoch [4/1000] - Loss: 0.5252 - Accuracy: 0.7238\n",
      "Epoch [5/1000] - Loss: 0.5064 - Accuracy: 0.7368\n",
      "Epoch [6/1000] - Loss: 0.4871 - Accuracy: 0.7322\n",
      "Epoch [7/1000] - Loss: 0.4836 - Accuracy: 0.7438\n",
      "Epoch [8/1000] - Loss: 0.4659 - Accuracy: 0.7380\n",
      "Epoch [9/1000] - Loss: 0.4637 - Accuracy: 0.7465\n",
      "Epoch [13/1000] - Loss: 0.4519 - Accuracy: 0.7425\n",
      "Epoch [14/1000] - Loss: 0.4476 - Accuracy: 0.7470\n",
      "Epoch [15/1000] - Loss: 0.4456 - Accuracy: 0.7472\n",
      "Epoch [16/1000] - Loss: 0.4389 - Accuracy: 0.7485\n",
      "Epoch [19/1000] - Loss: 0.4389 - Accuracy: 0.7500\n",
      "Epoch [20/1000] - Loss: 0.4352 - Accuracy: 0.7500\n",
      "Epoch [21/1000] - Loss: 0.4341 - Accuracy: 0.7612\n",
      "Epoch [22/1000] - Loss: 0.4274 - Accuracy: 0.7618\n",
      "Epoch [27/1000] - Loss: 0.4270 - Accuracy: 0.7490\n",
      "Epoch [28/1000] - Loss: 0.4254 - Accuracy: 0.7502\n",
      "Epoch [29/1000] - Loss: 0.4224 - Accuracy: 0.7610\n",
      "Epoch [31/1000] - Loss: 0.4214 - Accuracy: 0.7528\n",
      "Epoch [35/1000] - Loss: 0.4199 - Accuracy: 0.7622\n",
      "Epoch [37/1000] - Loss: 0.4152 - Accuracy: 0.7562\n",
      "Epoch [38/1000] - Loss: 0.4149 - Accuracy: 0.7508\n",
      "Epoch [41/1000] - Loss: 0.4119 - Accuracy: 0.7620\n",
      "Epoch [45/1000] - Loss: 0.4097 - Accuracy: 0.7610\n",
      "Epoch [46/1000] - Loss: 0.4072 - Accuracy: 0.7598\n",
      "Epoch [48/1000] - Loss: 0.4066 - Accuracy: 0.7555\n",
      "Epoch [53/1000] - Loss: 0.4025 - Accuracy: 0.7662\n",
      "Epoch [58/1000] - Loss: 0.4005 - Accuracy: 0.7635\n",
      "Epoch [59/1000] - Loss: 0.3981 - Accuracy: 0.7625\n",
      "Epoch [62/1000] - Loss: 0.3979 - Accuracy: 0.7635\n",
      "Epoch [64/1000] - Loss: 0.3936 - Accuracy: 0.7695\n",
      "Epoch [65/1000] - Loss: 0.3925 - Accuracy: 0.7652\n",
      "Epoch [68/1000] - Loss: 0.3892 - Accuracy: 0.7720\n",
      "Epoch [72/1000] - Loss: 0.3849 - Accuracy: 0.7748\n",
      "Epoch [77/1000] - Loss: 0.3847 - Accuracy: 0.7698\n",
      "Epoch [84/1000] - Loss: 0.3824 - Accuracy: 0.7718\n",
      "Epoch [86/1000] - Loss: 0.3795 - Accuracy: 0.7770\n",
      "Epoch [90/1000] - Loss: 0.3769 - Accuracy: 0.7855\n",
      "Epoch [91/1000] - Loss: 0.3763 - Accuracy: 0.7812\n",
      "Epoch [100/1000] - Loss: 0.3733 - Accuracy: 0.7762\n",
      "Epoch [101/1000] - Loss: 0.3721 - Accuracy: 0.7847\n",
      "Epoch [105/1000] - Loss: 0.3709 - Accuracy: 0.7800\n",
      "Epoch [107/1000] - Loss: 0.3707 - Accuracy: 0.7808\n",
      "Epoch [108/1000] - Loss: 0.3691 - Accuracy: 0.7682\n",
      "Epoch [117/1000] - Loss: 0.3662 - Accuracy: 0.7863\n",
      "Epoch [126/1000] - Loss: 0.3639 - Accuracy: 0.7880\n",
      "Epoch [134/1000] - Loss: 0.3627 - Accuracy: 0.7792\n",
      "Epoch [140/1000] - Loss: 0.3614 - Accuracy: 0.7917\n",
      "Epoch [150/1000] - Loss: 0.3590 - Accuracy: 0.7880\n",
      "Epoch [191/1000] - Loss: 0.3582 - Accuracy: 0.7853\n",
      "Epoch [212/1000] - Loss: 0.3578 - Accuracy: 0.7812\n",
      "Epoch [214/1000] - Loss: 0.3556 - Accuracy: 0.7845\n",
      "Epoch [253/1000] - Loss: 0.3546 - Accuracy: 0.7847\n",
      "Epoch [260/1000] - Loss: 0.3540 - Accuracy: 0.7887\n",
      "Early stopping triggered at epoch 310 due to no improvement.\n"
     ]
    }
   ],
   "source": [
    "# Early stopping setup\n",
    "early_stopping_patience = 50\n",
    "best_loss = float(\"inf\")\n",
    "epochs_without_improvement = 0\n",
    "\n",
    "# Training Setup\n",
    "criterion = nn.CrossEntropyLoss()\n",
    "optimizer = optim.Adam(model.parameters(), lr=0.001)\n",
    "train_dataset = TensorDataset(torch.tensor(X_train_balanced.values, dtype=torch.float32).to(device),\n",
    "                              torch.tensor(y_train_balanced.values, dtype=torch.long).to(device))\n",
    "train_loader = DataLoader(train_dataset, batch_size=64, shuffle=True)\n",
    "\n",
    "# Training Loop\n",
    "num_epochs = 1000\n",
    "for epoch in range(num_epochs):\n",
    "\tmodel.train()\n",
    "\ttotal_loss, correct, total = 0, 0, 0\n",
    "\tfor i, (data, labels) in enumerate(train_loader):\n",
    "\t\toptimizer.zero_grad()\n",
    "\t\toutputs = model(data)\n",
    "\t\tloss = criterion(outputs, labels)\n",
    "\t\t\n",
    "\t\tloss.backward()\n",
    "\t\toptimizer.step()\n",
    "\t\t\n",
    "\t\ttotal_loss += loss.item()\n",
    "\t\t_, predicted = torch.max(outputs.data, 1)\n",
    "\t\ttotal += labels.size(0)\n",
    "\t\t\n",
    "\t\tcorrect += (predicted == labels).sum().item()\n",
    "\t\tprogress = (i + 1) / len(train_loader) * 100\n",
    "\t\t\n",
    "\t\t# print(f'\\rEpoch [{epoch+1}/{num_epochs}] - Progress: {progress:.1f}%', end='')\n",
    "\n",
    "\tepoch_loss = total_loss / len(train_loader)\n",
    "\tepoch_accuracy = correct / total\n",
    "\n",
    "\t# print(f' - Loss: {epoch_loss:.4f} - Accuracy: {epoch_accuracy:.4f}')\n",
    "\n",
    "\t# Early Stopping Condition\n",
    "\tif epoch_loss < best_loss:\n",
    "\t\tbest_loss = epoch_loss\n",
    "\t\tepochs_without_improvement = 0\n",
    "\t\tprint(f\"Epoch [{epoch+1}/{num_epochs}] - Loss: {epoch_loss:.4f} - Accuracy: {epoch_accuracy:.4f}\")\n",
    "\telse:\n",
    "\t\tepochs_without_improvement += 1\n",
    "\t\tprint(f\"Epoch [{epoch+1}/{num_epochs}] - Loss: {epoch_loss:.4f} - Accuracy: {epoch_accuracy:.4f}\", end=\"\\r\")\n",
    "\t\n",
    "\tif epochs_without_improvement >= early_stopping_patience:\n",
    "\t\tprint(f\"Early stopping triggered at epoch {epoch+1} due to no improvement.\")\n",
    "\t\tbreak"
   ]
  },
  {
   "cell_type": "code",
   "execution_count": 44,
   "metadata": {},
   "outputs": [],
   "source": [
    "torch.save(model.state_dict(), f\"./models/{notebook}.pth\")"
   ]
  },
  {
   "cell_type": "markdown",
   "metadata": {},
   "source": [
    "-------------------\n",
    "\n",
    "## Evaluation"
   ]
  },
  {
   "cell_type": "code",
   "execution_count": 45,
   "metadata": {},
   "outputs": [
    {
     "name": "stdout",
     "output_type": "stream",
     "text": [
      "Accuracy: 0.8250\n",
      "F1 Score: 0.8128\n",
      "\n",
      "Classification Report:\n",
      "\n",
      "                            precision    recall  f1-score   support\n",
      "\n",
      "                    Others       1.00      0.99      1.00       200\n",
      "  Web Attack � Brute Force       0.79      0.42      0.55       200\n",
      "          Web Attack � XSS       0.62      0.89      0.73       200\n",
      "Web Attack � Sql Injection       0.95      1.00      0.97       200\n",
      "\n",
      "                  accuracy                           0.82       800\n",
      "                 macro avg       0.84      0.82      0.81       800\n",
      "              weighted avg       0.84      0.82      0.81       800\n",
      "\n"
     ]
    }
   ],
   "source": [
    "model.eval()\n",
    "\n",
    "X_test_tensor = torch.tensor(X_test_balanced.values, dtype=torch.float32).to(device)\n",
    "y_test_tensor = torch.tensor(y_test_balanced.values, dtype=torch.long).to(device)\n",
    "\n",
    "with torch.no_grad():\n",
    "\toutputs = model(X_test_tensor)\n",
    "\t_, predicted = torch.max(outputs.data, 1)\n",
    "\n",
    "print(f\"Accuracy: {accuracy_score(y_test_tensor.cpu(), predicted.cpu()):.4f}\")\n",
    "print(f\"F1 Score: {f1_score(y_test_tensor.cpu(), predicted.cpu(), average=\"weighted\"):.4f}\")\n",
    "\n",
    "print(\"\\nClassification Report:\\n\")\n",
    "print(classification_report(y_test_tensor.cpu(), predicted.cpu(), target_names=attack_mapping))"
   ]
  }
 ],
 "metadata": {
  "kernelspec": {
   "display_name": "Python 3",
   "language": "python",
   "name": "python3"
  },
  "language_info": {
   "codemirror_mode": {
    "name": "ipython",
    "version": 3
   },
   "file_extension": ".py",
   "mimetype": "text/x-python",
   "name": "python",
   "nbconvert_exporter": "python",
   "pygments_lexer": "ipython3",
   "version": "3.12.9"
  }
 },
 "nbformat": 4,
 "nbformat_minor": 2
}
