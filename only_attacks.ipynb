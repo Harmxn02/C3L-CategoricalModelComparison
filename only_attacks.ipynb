{
 "cells": [
  {
   "cell_type": "markdown",
   "metadata": {},
   "source": [
    "# Categorical Model Comparison\n",
    "\n",
    "**only_attacks.ipynb**\n",
    "\n",
    "In this notebook we train a model only on attack data, and export the model for use in the **categorical_model_comparison.ipynb** notebook.\n",
    "\n",
    "We will use a CNN-GAN model described in this study: <https://www.jait.us/articles/2024/JAIT-V15N7-886.pdf>\n",
    "\n",
    "Our dataset is the CIC-IDS-2017 dataset"
   ]
  },
  {
   "cell_type": "code",
   "execution_count": 1,
   "metadata": {},
   "outputs": [],
   "source": [
    "notebook = \"only_attacks\""
   ]
  },
  {
   "cell_type": "code",
   "execution_count": 2,
   "metadata": {},
   "outputs": [],
   "source": [
    "import warnings\n",
    "from sklearn.exceptions import UndefinedMetricWarning\n",
    "warnings.filterwarnings(\"ignore\", category=UndefinedMetricWarning)"
   ]
  },
  {
   "cell_type": "markdown",
   "metadata": {},
   "source": [
    "## Step 1: Load the data"
   ]
  },
  {
   "cell_type": "code",
   "execution_count": 3,
   "metadata": {},
   "outputs": [],
   "source": [
    "import pandas as pd\n",
    "import numpy as np\n",
    "\n",
    "df = pd.read_csv(\"./data/concat.csv\")\n",
    "\n",
    "# Trim whitespace from column names\n",
    "df.columns = df.columns.str.strip()"
   ]
  },
  {
   "cell_type": "markdown",
   "metadata": {},
   "source": [
    "## Step 2: Preprocess the data"
   ]
  },
  {
   "cell_type": "markdown",
   "metadata": {},
   "source": [
    "### missing values"
   ]
  },
  {
   "cell_type": "code",
   "execution_count": 4,
   "metadata": {},
   "outputs": [
    {
     "data": {
      "text/plain": [
       "Flow Bytes/s                   1358\n",
       "Flow Duration                     0\n",
       "Destination Port                  0\n",
       "Total Backward Packets            0\n",
       "Total Length of Fwd Packets       0\n",
       "                               ... \n",
       "Idle Mean                         0\n",
       "Idle Std                          0\n",
       "Idle Max                          0\n",
       "Idle Min                          0\n",
       "Label                             0\n",
       "Length: 79, dtype: int64"
      ]
     },
     "execution_count": 4,
     "metadata": {},
     "output_type": "execute_result"
    }
   ],
   "source": [
    "df.isna().sum().sort_values(ascending=False)"
   ]
  },
  {
   "cell_type": "code",
   "execution_count": 5,
   "metadata": {},
   "outputs": [],
   "source": [
    "df.dropna(subset=[\"Flow Bytes/s\"], inplace=True)"
   ]
  },
  {
   "cell_type": "markdown",
   "metadata": {},
   "source": [
    "### Inf. values"
   ]
  },
  {
   "cell_type": "code",
   "execution_count": 6,
   "metadata": {},
   "outputs": [],
   "source": [
    "df = df.replace([np.inf, -np.inf], np.nan).dropna()"
   ]
  },
  {
   "cell_type": "code",
   "execution_count": 7,
   "metadata": {},
   "outputs": [
    {
     "data": {
      "text/plain": [
       "Destination Port               0\n",
       "Flow Duration                  0\n",
       "Total Fwd Packets              0\n",
       "Total Backward Packets         0\n",
       "Total Length of Fwd Packets    0\n",
       "                              ..\n",
       "Idle Mean                      0\n",
       "Idle Std                       0\n",
       "Idle Max                       0\n",
       "Idle Min                       0\n",
       "Label                          0\n",
       "Length: 79, dtype: int64"
      ]
     },
     "execution_count": 7,
     "metadata": {},
     "output_type": "execute_result"
    }
   ],
   "source": [
    "df.isna().sum().sort_values(ascending=False)"
   ]
  },
  {
   "cell_type": "markdown",
   "metadata": {},
   "source": [
    "## Step 3: Prepare the data for training"
   ]
  },
  {
   "cell_type": "markdown",
   "metadata": {},
   "source": [
    "### scaling numerical features"
   ]
  },
  {
   "cell_type": "code",
   "execution_count": 8,
   "metadata": {},
   "outputs": [],
   "source": [
    "from sklearn.preprocessing import MinMaxScaler\n",
    "\n",
    "numerical_columns = df.select_dtypes(include=\"number\").columns\n",
    "scaler = MinMaxScaler()\n",
    "df[numerical_columns] = scaler.fit_transform(df[numerical_columns])"
   ]
  },
  {
   "cell_type": "markdown",
   "metadata": {},
   "source": [
    "### map labels to multi-class"
   ]
  },
  {
   "cell_type": "markdown",
   "metadata": {},
   "source": [
    "**important**: Here we drop all the benign rows, so we are left with only the attacks."
   ]
  },
  {
   "cell_type": "code",
   "execution_count": 9,
   "metadata": {},
   "outputs": [
    {
     "data": {
      "text/plain": [
       "Label\n",
       "DoS Hulk                      230124\n",
       "PortScan                      158804\n",
       "DDoS                          128025\n",
       "DoS GoldenEye                  10293\n",
       "FTP-Patator                     7935\n",
       "SSH-Patator                     5897\n",
       "DoS slowloris                   5796\n",
       "DoS Slowhttptest                5499\n",
       "Bot                             1956\n",
       "Web Attack � Brute Force        1507\n",
       "Web Attack � XSS                 652\n",
       "Infiltration                      36\n",
       "Web Attack � Sql Injection        21\n",
       "Heartbleed                        11\n",
       "Name: count, dtype: int64"
      ]
     },
     "execution_count": 9,
     "metadata": {},
     "output_type": "execute_result"
    }
   ],
   "source": [
    "df = df[df[\"Label\"] != \"BENIGN\"]\n",
    "\n",
    "df[\"Label\"].value_counts()"
   ]
  },
  {
   "cell_type": "code",
   "execution_count": 10,
   "metadata": {},
   "outputs": [],
   "source": [
    "attack_mapping = {\n",
    "\t\"DoS Hulk\": 0,\n",
    "\t\"PortScan\": 1,\n",
    "\t\"DDoS\": 2,\n",
    "\t\"DoS GoldenEye\": 3,\n",
    "\t\"FTP-Patator\": 4,\n",
    "\t\"SSH-Patator\": 5,\n",
    "\t\"DoS slowloris\": 6,\n",
    "\t\"DoS Slowhttptest\": 7,\n",
    "\t\"Bot\": 8,\n",
    "\t\"Web Attack � Brute Force\": 9,\n",
    "\t\"Web Attack � XSS\": 10,\n",
    "\t\"Infiltration\": 11,\n",
    "\t\"Web Attack � Sql Injection\": 12,\n",
    "\t\"Heartbleed\": 13\n",
    "}\n",
    "\n",
    "df[\"Label\"] = df[\"Label\"].map(attack_mapping)"
   ]
  },
  {
   "cell_type": "code",
   "execution_count": 11,
   "metadata": {},
   "outputs": [
    {
     "data": {
      "text/plain": [
       "Label\n",
       "0     230124\n",
       "1     158804\n",
       "2     128025\n",
       "3      10293\n",
       "4       7935\n",
       "5       5897\n",
       "6       5796\n",
       "7       5499\n",
       "8       1956\n",
       "9       1507\n",
       "10       652\n",
       "11        36\n",
       "12        21\n",
       "13        11\n",
       "Name: count, dtype: int64"
      ]
     },
     "execution_count": 11,
     "metadata": {},
     "output_type": "execute_result"
    }
   ],
   "source": [
    "df[\"Label\"].value_counts()"
   ]
  },
  {
   "cell_type": "markdown",
   "metadata": {},
   "source": [
    "### data splitting"
   ]
  },
  {
   "cell_type": "code",
   "execution_count": 15,
   "metadata": {},
   "outputs": [],
   "source": [
    "X = df.drop(columns=[\"Label\"])\n",
    "y = df[\"Label\"]\n",
    "\n",
    "from sklearn.model_selection import train_test_split\n",
    "X_train, X_test, y_train, y_test = train_test_split(X, y, test_size=0.2, random_state=42)"
   ]
  },
  {
   "cell_type": "markdown",
   "metadata": {},
   "source": [
    "### data sampling"
   ]
  },
  {
   "cell_type": "code",
   "execution_count": 20,
   "metadata": {},
   "outputs": [],
   "source": [
    "# Undersample all values below 10.000\n",
    "from imblearn.under_sampling import RandomUnderSampler\n",
    "\n",
    "rus = RandomUnderSampler(sampling_strategy={\n",
    "\t0: 1000,\n",
    "\t1: 1000,\n",
    "\t2: 1000, \n",
    "\t3: 1000,\n",
    "\t4: 1000,\n",
    "\t5: 1000,\n",
    "\t6: 1000,\n",
    "\t7: 1000,\n",
    "\t8: 1000,\n",
    "\t9: 1000,\n",
    "}, random_state=28)\n",
    "\n",
    "rus_testset = RandomUnderSampler(sampling_strategy={\n",
    "\t0: 200,\n",
    "\t1: 200,\n",
    "\t2: 200, \n",
    "\t3: 200,\n",
    "\t4: 200,\n",
    "\t5: 200,\n",
    "\t6: 200,\n",
    "\t7: 200,\n",
    "\t8: 200,\n",
    "\t9: 200,\n",
    "}, random_state=28)\n",
    "\n",
    "X_train_balanced, y_train_balanced = rus.fit_resample(X_train, y_train)\n",
    "X_test_balanced, y_test_balanced = rus_testset.fit_resample(X_test, y_test)"
   ]
  },
  {
   "cell_type": "code",
   "execution_count": 21,
   "metadata": {},
   "outputs": [],
   "source": [
    "# Oversample all values below 10.000\n",
    "from imblearn.over_sampling import RandomOverSampler\n",
    "\n",
    "ros = RandomOverSampler(sampling_strategy={\n",
    "\t10: 1000,\n",
    "\t11: 1000,\n",
    "\t12: 1000,\n",
    "\t13: 1000,\n",
    "}, random_state=28)\n",
    "\n",
    "ros_testset = RandomOverSampler(sampling_strategy={\n",
    "\t10: 200,\n",
    "\t11: 200,\n",
    "\t12: 200,\n",
    "\t13: 200\n",
    "}, random_state=28)\n",
    "\n",
    "X_train_balanced, y_train_balanced = ros.fit_resample(X_train_balanced, y_train_balanced)\n",
    "X_test_balanced, y_test_balanced = ros_testset.fit_resample(X_test_balanced, y_test_balanced)"
   ]
  },
  {
   "cell_type": "code",
   "execution_count": 22,
   "metadata": {},
   "outputs": [
    {
     "name": "stdout",
     "output_type": "stream",
     "text": [
      "Class distribution before SMOTE: Counter({0: 183868, 1: 127224, 2: 102409, 3: 8230, 4: 6395, 5: 4693, 6: 4692, 7: 4410, 8: 1555, 9: 1200, 10: 513, 11: 28, 12: 18, 13: 9})\n",
      "Class distribution after SMOTE: Counter({0: 1000, 1: 1000, 2: 1000, 3: 1000, 4: 1000, 5: 1000, 6: 1000, 7: 1000, 8: 1000, 9: 1000, 10: 1000, 11: 1000, 12: 1000, 13: 1000})\n"
     ]
    }
   ],
   "source": [
    "# Check class distribution after SMOTE\n",
    "from collections import Counter\n",
    "\n",
    "print(f\"Class distribution before SMOTE: {Counter(y_train)}\")\n",
    "print(f\"Class distribution after SMOTE: {Counter(y_train_balanced)}\")"
   ]
  },
  {
   "cell_type": "markdown",
   "metadata": {},
   "source": [
    "## Step 4: Train the model"
   ]
  },
  {
   "cell_type": "markdown",
   "metadata": {},
   "source": [
    "### 1. CNN Feature Extractor"
   ]
  },
  {
   "cell_type": "code",
   "execution_count": 23,
   "metadata": {},
   "outputs": [],
   "source": [
    "import torch\n",
    "import torch.nn as nn\n",
    "import torch.optim as optim\n",
    "\n",
    "from torch.utils.data import DataLoader, TensorDataset\n",
    "from sklearn.metrics import accuracy_score, f1_score, classification_report\n",
    "\n",
    "# Define CNN Feature Extractor\n",
    "class CNNFeatureExtractor(nn.Module):\n",
    "    def __init__(self, input_size, num_filters=32):\n",
    "        super(CNNFeatureExtractor, self).__init__()\n",
    "        self.conv1 = nn.Conv1d(in_channels=1, out_channels=num_filters, kernel_size=3, stride=1, padding=1)\n",
    "        self.relu = nn.ReLU()\n",
    "        self.pool = nn.MaxPool1d(kernel_size=2, stride=2)\n",
    "        self.flatten = nn.Flatten()\n",
    "        self.fc = nn.Linear((input_size // 2) * num_filters, 64)\n",
    "    \n",
    "    def forward(self, x):\n",
    "        x = x.unsqueeze(1)  # Add channel dimension\n",
    "        x = self.conv1(x)\n",
    "        x = self.relu(x)\n",
    "        x = self.pool(x)\n",
    "        x = self.flatten(x)\n",
    "        return self.fc(x)"
   ]
  },
  {
   "cell_type": "markdown",
   "metadata": {},
   "source": [
    "### 2. Generator-Discriminator"
   ]
  },
  {
   "cell_type": "code",
   "execution_count": 24,
   "metadata": {},
   "outputs": [],
   "source": [
    "# Define Generator\n",
    "class Generator(nn.Module):\n",
    "    def __init__(self, noise_dim, output_dim):\n",
    "        super(Generator, self).__init__()\n",
    "        self.model = nn.Sequential(\n",
    "            nn.Linear(noise_dim, 128),\n",
    "            nn.ReLU(),\n",
    "            nn.Linear(128, output_dim),\n",
    "            nn.Tanh()\n",
    "        )\n",
    "    \n",
    "    def forward(self, x):\n",
    "        return self.model(x)\n",
    "\n",
    "\n",
    "# Define Discriminator\n",
    "class Discriminator(nn.Module):\n",
    "    def __init__(self, input_dim):\n",
    "        super(Discriminator, self).__init__()\n",
    "        self.model = nn.Sequential(\n",
    "            nn.Linear(input_dim, 128),\n",
    "            nn.ReLU(),\n",
    "            nn.Linear(128, 1),\n",
    "            nn.Sigmoid()\n",
    "        )\n",
    "    \n",
    "    def forward(self, x):\n",
    "        return self.model(x)"
   ]
  },
  {
   "cell_type": "markdown",
   "metadata": {},
   "source": [
    "### 3. Define Hybrid Model"
   ]
  },
  {
   "cell_type": "code",
   "execution_count": 25,
   "metadata": {},
   "outputs": [],
   "source": [
    "# Define Hybrid Model\n",
    "class HybridCNNGAN(nn.Module):\n",
    "    def __init__(self, input_size, output_size, noise_dim=32):\n",
    "        super(HybridCNNGAN, self).__init__()\n",
    "        self.feature_extractor = CNNFeatureExtractor(input_size)\n",
    "        self.classifier = nn.Linear(64, output_size)\n",
    "        self.generator = Generator(noise_dim, input_size)\n",
    "        self.discriminator = Discriminator(input_size)\n",
    "    \n",
    "    def forward(self, x):\n",
    "        features = self.feature_extractor(x)\n",
    "        return self.classifier(features)"
   ]
  },
  {
   "cell_type": "code",
   "execution_count": 26,
   "metadata": {},
   "outputs": [
    {
     "name": "stdout",
     "output_type": "stream",
     "text": [
      "------------------------------\n",
      "Model Summary\n",
      "------------------------------\n",
      "HybridCNNGAN(\n",
      "  (feature_extractor): CNNFeatureExtractor(\n",
      "    (conv1): Conv1d(1, 32, kernel_size=(3,), stride=(1,), padding=(1,))\n",
      "    (relu): ReLU()\n",
      "    (pool): MaxPool1d(kernel_size=2, stride=2, padding=0, dilation=1, ceil_mode=False)\n",
      "    (flatten): Flatten(start_dim=1, end_dim=-1)\n",
      "    (fc): Linear(in_features=1248, out_features=64, bias=True)\n",
      "  )\n",
      "  (classifier): Linear(in_features=64, out_features=14, bias=True)\n",
      "  (generator): Generator(\n",
      "    (model): Sequential(\n",
      "      (0): Linear(in_features=32, out_features=128, bias=True)\n",
      "      (1): ReLU()\n",
      "      (2): Linear(in_features=128, out_features=78, bias=True)\n",
      "      (3): Tanh()\n",
      "    )\n",
      "  )\n",
      "  (discriminator): Discriminator(\n",
      "    (model): Sequential(\n",
      "      (0): Linear(in_features=78, out_features=128, bias=True)\n",
      "      (1): ReLU()\n",
      "      (2): Linear(in_features=128, out_features=1, bias=True)\n",
      "      (3): Sigmoid()\n",
      "    )\n",
      "  )\n",
      ")\n",
      "------------------------------\n",
      "Device: cuda\n",
      "------------------------------\n"
     ]
    }
   ],
   "source": [
    "# Initialize model\n",
    "input_size = X_train_balanced.shape[1]\n",
    "output_size = len(attack_mapping)\n",
    "device = torch.device(\"cuda\" if torch.cuda.is_available() else \"cpu\")\n",
    "model = HybridCNNGAN(input_size, output_size).to(device)\n",
    "\n",
    "print(\"-\"*30)\n",
    "print(\"Model Summary\")\n",
    "print(\"-\"*30)\n",
    "print(model)\n",
    "print(\"-\"*30)\n",
    "print(\"Device:\", device)\n",
    "print(\"-\"*30)"
   ]
  },
  {
   "cell_type": "markdown",
   "metadata": {},
   "source": [
    "### 4. Train the model"
   ]
  },
  {
   "cell_type": "code",
   "execution_count": 27,
   "metadata": {},
   "outputs": [
    {
     "name": "stdout",
     "output_type": "stream",
     "text": [
      "Epoch [1/1000] - Loss: 1.6466 - Accuracy: 0.4626\n",
      "Epoch [2/1000] - Loss: 0.8508 - Accuracy: 0.6801\n",
      "Epoch [3/1000] - Loss: 0.7049 - Accuracy: 0.7198\n",
      "Epoch [4/1000] - Loss: 0.6261 - Accuracy: 0.7491\n",
      "Epoch [5/1000] - Loss: 0.5643 - Accuracy: 0.7731\n",
      "Epoch [6/1000] - Loss: 0.5172 - Accuracy: 0.7924\n",
      "Epoch [7/1000] - Loss: 0.4718 - Accuracy: 0.8224\n",
      "Epoch [8/1000] - Loss: 0.4350 - Accuracy: 0.8352\n",
      "Epoch [9/1000] - Loss: 0.4162 - Accuracy: 0.8361\n",
      "Epoch [10/1000] - Loss: 0.3871 - Accuracy: 0.8489\n",
      "Epoch [11/1000] - Loss: 0.3707 - Accuracy: 0.8486\n",
      "Epoch [12/1000] - Loss: 0.3618 - Accuracy: 0.8519\n",
      "Epoch [13/1000] - Loss: 0.3571 - Accuracy: 0.8516\n",
      "Epoch [14/1000] - Loss: 0.3386 - Accuracy: 0.8541\n",
      "Epoch [15/1000] - Loss: 0.3358 - Accuracy: 0.8551\n",
      "Epoch [16/1000] - Loss: 0.3240 - Accuracy: 0.8596\n",
      "Epoch [17/1000] - Loss: 0.3207 - Accuracy: 0.8576\n",
      "Epoch [18/1000] - Loss: 0.3165 - Accuracy: 0.8571\n",
      "Epoch [19/1000] - Loss: 0.3109 - Accuracy: 0.8636\n",
      "Epoch [20/1000] - Loss: 0.3057 - Accuracy: 0.8612\n",
      "Epoch [21/1000] - Loss: 0.3045 - Accuracy: 0.8601\n",
      "Epoch [22/1000] - Loss: 0.2969 - Accuracy: 0.8670\n",
      "Epoch [23/1000] - Loss: 0.2902 - Accuracy: 0.8653\n",
      "Epoch [26/1000] - Loss: 0.2836 - Accuracy: 0.8650\n",
      "Epoch [27/1000] - Loss: 0.2790 - Accuracy: 0.8692\n",
      "Epoch [28/1000] - Loss: 0.2760 - Accuracy: 0.8714\n",
      "Epoch [29/1000] - Loss: 0.2720 - Accuracy: 0.8736\n",
      "Epoch [31/1000] - Loss: 0.2654 - Accuracy: 0.8744\n",
      "Epoch [32/1000] - Loss: 0.2638 - Accuracy: 0.8751\n",
      "Epoch [33/1000] - Loss: 0.2632 - Accuracy: 0.8745\n",
      "Epoch [34/1000] - Loss: 0.2614 - Accuracy: 0.8736\n",
      "Epoch [35/1000] - Loss: 0.2583 - Accuracy: 0.8729\n",
      "Epoch [36/1000] - Loss: 0.2531 - Accuracy: 0.8786\n",
      "Epoch [37/1000] - Loss: 0.2437 - Accuracy: 0.8764\n",
      "Epoch [42/1000] - Loss: 0.2394 - Accuracy: 0.8791\n",
      "Epoch [43/1000] - Loss: 0.2357 - Accuracy: 0.8826\n",
      "Epoch [44/1000] - Loss: 0.2328 - Accuracy: 0.8812\n",
      "Epoch [48/1000] - Loss: 0.2270 - Accuracy: 0.8846\n",
      "Epoch [52/1000] - Loss: 0.2203 - Accuracy: 0.8878\n",
      "Epoch [54/1000] - Loss: 0.2177 - Accuracy: 0.8837\n",
      "Epoch [57/1000] - Loss: 0.2161 - Accuracy: 0.8878\n",
      "Epoch [59/1000] - Loss: 0.2117 - Accuracy: 0.8900\n",
      "Epoch [61/1000] - Loss: 0.2111 - Accuracy: 0.8906\n",
      "Epoch [64/1000] - Loss: 0.2093 - Accuracy: 0.8924\n",
      "Epoch [65/1000] - Loss: 0.2071 - Accuracy: 0.8908\n",
      "Epoch [66/1000] - Loss: 0.2043 - Accuracy: 0.8951\n",
      "Epoch [70/1000] - Loss: 0.2011 - Accuracy: 0.8957\n",
      "Epoch [75/1000] - Loss: 0.1995 - Accuracy: 0.8971\n",
      "Epoch [77/1000] - Loss: 0.1988 - Accuracy: 0.8980\n",
      "Epoch [78/1000] - Loss: 0.1974 - Accuracy: 0.8937\n",
      "Epoch [81/1000] - Loss: 0.1973 - Accuracy: 0.8966\n",
      "Epoch [83/1000] - Loss: 0.1955 - Accuracy: 0.8963\n",
      "Epoch [87/1000] - Loss: 0.1932 - Accuracy: 0.8989\n",
      "Epoch [90/1000] - Loss: 0.1924 - Accuracy: 0.8961\n",
      "Epoch [92/1000] - Loss: 0.1908 - Accuracy: 0.8980\n",
      "Epoch [93/1000] - Loss: 0.1873 - Accuracy: 0.8989\n",
      "Epoch [95/1000] - Loss: 0.1862 - Accuracy: 0.9013\n",
      "Epoch [105/1000] - Loss: 0.1849 - Accuracy: 0.8971\n",
      "Epoch [109/1000] - Loss: 0.1838 - Accuracy: 0.9010\n",
      "Epoch [110/1000] - Loss: 0.1822 - Accuracy: 0.9014\n",
      "Epoch [115/1000] - Loss: 0.1811 - Accuracy: 0.9046\n",
      "Epoch [122/1000] - Loss: 0.1809 - Accuracy: 0.9029\n",
      "Epoch [123/1000] - Loss: 0.1794 - Accuracy: 0.9018\n",
      "Epoch [132/1000] - Loss: 0.1771 - Accuracy: 0.9040\n",
      "Epoch [138/1000] - Loss: 0.1757 - Accuracy: 0.9057\n",
      "Epoch [139/1000] - Loss: 0.1747 - Accuracy: 0.9059\n",
      "Epoch [150/1000] - Loss: 0.1746 - Accuracy: 0.9058\n",
      "Epoch [152/1000] - Loss: 0.1729 - Accuracy: 0.9117\n",
      "Epoch [158/1000] - Loss: 0.1722 - Accuracy: 0.9066\n",
      "Epoch [159/1000] - Loss: 0.1717 - Accuracy: 0.9117\n",
      "Epoch [160/1000] - Loss: 0.1708 - Accuracy: 0.9106\n",
      "Epoch [163/1000] - Loss: 0.1706 - Accuracy: 0.9103\n",
      "Epoch [164/1000] - Loss: 0.1696 - Accuracy: 0.9069\n",
      "Epoch [169/1000] - Loss: 0.1689 - Accuracy: 0.9113\n",
      "Epoch [171/1000] - Loss: 0.1668 - Accuracy: 0.9121\n",
      "Epoch [172/1000] - Loss: 0.1665 - Accuracy: 0.9165\n",
      "Epoch [177/1000] - Loss: 0.1665 - Accuracy: 0.9160\n",
      "Epoch [178/1000] - Loss: 0.1656 - Accuracy: 0.9121\n",
      "Epoch [181/1000] - Loss: 0.1655 - Accuracy: 0.9104\n",
      "Epoch [185/1000] - Loss: 0.1632 - Accuracy: 0.9159\n",
      "Epoch [187/1000] - Loss: 0.1608 - Accuracy: 0.9159\n",
      "Epoch [189/1000] - Loss: 0.1596 - Accuracy: 0.9172\n",
      "Epoch [194/1000] - Loss: 0.1570 - Accuracy: 0.9231\n",
      "Epoch [197/1000] - Loss: 0.1559 - Accuracy: 0.9225\n",
      "Epoch [200/1000] - Loss: 0.1558 - Accuracy: 0.9188\n",
      "Epoch [201/1000] - Loss: 0.1544 - Accuracy: 0.9249\n",
      "Epoch [202/1000] - Loss: 0.1511 - Accuracy: 0.9279\n",
      "Epoch [209/1000] - Loss: 0.1499 - Accuracy: 0.9258\n",
      "Epoch [211/1000] - Loss: 0.1491 - Accuracy: 0.9224\n",
      "Epoch [213/1000] - Loss: 0.1485 - Accuracy: 0.9252\n",
      "Epoch [215/1000] - Loss: 0.1461 - Accuracy: 0.9274\n",
      "Epoch [218/1000] - Loss: 0.1442 - Accuracy: 0.9282\n",
      "Epoch [221/1000] - Loss: 0.1421 - Accuracy: 0.9309\n",
      "Epoch [225/1000] - Loss: 0.1407 - Accuracy: 0.9312\n",
      "Epoch [232/1000] - Loss: 0.1377 - Accuracy: 0.9328\n",
      "Epoch [234/1000] - Loss: 0.1371 - Accuracy: 0.9318\n",
      "Epoch [235/1000] - Loss: 0.1361 - Accuracy: 0.9318\n",
      "Epoch [236/1000] - Loss: 0.1360 - Accuracy: 0.9339\n",
      "Epoch [240/1000] - Loss: 0.1330 - Accuracy: 0.9340\n",
      "Epoch [243/1000] - Loss: 0.1329 - Accuracy: 0.9306\n",
      "Epoch [247/1000] - Loss: 0.1314 - Accuracy: 0.9327\n",
      "Epoch [252/1000] - Loss: 0.1287 - Accuracy: 0.9341\n",
      "Epoch [253/1000] - Loss: 0.1266 - Accuracy: 0.9374\n",
      "Epoch [264/1000] - Loss: 0.1257 - Accuracy: 0.9369\n",
      "Epoch [268/1000] - Loss: 0.1256 - Accuracy: 0.9378\n",
      "Epoch [274/1000] - Loss: 0.1239 - Accuracy: 0.9336\n",
      "Epoch [277/1000] - Loss: 0.1236 - Accuracy: 0.9376\n",
      "Epoch [278/1000] - Loss: 0.1227 - Accuracy: 0.9360\n",
      "Epoch [283/1000] - Loss: 0.1227 - Accuracy: 0.9371\n",
      "Epoch [289/1000] - Loss: 0.1208 - Accuracy: 0.9358\n",
      "Epoch [293/1000] - Loss: 0.1208 - Accuracy: 0.9348\n",
      "Epoch [294/1000] - Loss: 0.1203 - Accuracy: 0.9367\n",
      "Epoch [305/1000] - Loss: 0.1189 - Accuracy: 0.9363\n",
      "Epoch [326/1000] - Loss: 0.1176 - Accuracy: 0.9378\n",
      "Epoch [341/1000] - Loss: 0.1175 - Accuracy: 0.9360\n",
      "Epoch [342/1000] - Loss: 0.1174 - Accuracy: 0.9379\n",
      "Epoch [352/1000] - Loss: 0.1162 - Accuracy: 0.9376\n",
      "Epoch [376/1000] - Loss: 0.1157 - Accuracy: 0.9374\n",
      "Epoch [397/1000] - Loss: 0.1149 - Accuracy: 0.9387\n",
      "Epoch [404/1000] - Loss: 0.1145 - Accuracy: 0.9384\n",
      "Epoch [412/1000] - Loss: 0.1143 - Accuracy: 0.9366\n",
      "Epoch [451/1000] - Loss: 0.1137 - Accuracy: 0.9378\n",
      "Epoch [458/1000] - Loss: 0.1131 - Accuracy: 0.9379\n",
      "Epoch [485/1000] - Loss: 0.1129 - Accuracy: 0.9395\n",
      "Epoch [486/1000] - Loss: 0.1125 - Accuracy: 0.9398\n",
      "Epoch [508/1000] - Loss: 0.1122 - Accuracy: 0.9377\n",
      "Epoch [524/1000] - Loss: 0.1121 - Accuracy: 0.9406\n",
      "Epoch [525/1000] - Loss: 0.1118 - Accuracy: 0.9379\n",
      "Epoch [537/1000] - Loss: 0.1116 - Accuracy: 0.9367\n",
      "Epoch [542/1000] - Loss: 0.1116 - Accuracy: 0.9388\n",
      "Epoch [550/1000] - Loss: 0.1116 - Accuracy: 0.9365\n",
      "Epoch [565/1000] - Loss: 0.1111 - Accuracy: 0.9395\n",
      "Epoch [576/1000] - Loss: 0.1111 - Accuracy: 0.9393\n",
      "Epoch [577/1000] - Loss: 0.1105 - Accuracy: 0.9395\n",
      "Epoch [614/1000] - Loss: 0.1103 - Accuracy: 0.9389\n",
      "Epoch [636/1000] - Loss: 0.1101 - Accuracy: 0.9404\n",
      "Epoch [641/1000] - Loss: 0.1098 - Accuracy: 0.9376\n",
      "Epoch [667/1000] - Loss: 0.1097 - Accuracy: 0.9396\n",
      "Epoch [676/1000] - Loss: 0.1089 - Accuracy: 0.9400\n",
      "Epoch [701/1000] - Loss: 0.1087 - Accuracy: 0.9383\n",
      "Epoch [719/1000] - Loss: 0.1084 - Accuracy: 0.9395\n",
      "Epoch [744/1000] - Loss: 0.1082 - Accuracy: 0.9350\n",
      "Epoch [759/1000] - Loss: 0.1079 - Accuracy: 0.9366\n",
      "Epoch [775/1000] - Loss: 0.1072 - Accuracy: 0.9368\n",
      "Epoch [791/1000] - Loss: 0.1067 - Accuracy: 0.9359\n",
      "Early stopping triggered at epoch 841 due to no improvement.\n"
     ]
    }
   ],
   "source": [
    "# Early stopping setup\n",
    "early_stopping_patience = 50\n",
    "best_loss = float(\"inf\")\n",
    "epochs_without_improvement = 0\n",
    "\n",
    "# Training Setup\n",
    "criterion = nn.CrossEntropyLoss()\n",
    "optimizer = optim.Adam(model.parameters(), lr=0.001)\n",
    "train_dataset = TensorDataset(torch.tensor(X_train_balanced.values, dtype=torch.float32).to(device),\n",
    "                              torch.tensor(y_train_balanced.values, dtype=torch.long).to(device))\n",
    "train_loader = DataLoader(train_dataset, batch_size=64, shuffle=True)\n",
    "\n",
    "# Training Loop\n",
    "num_epochs = 1000\n",
    "for epoch in range(num_epochs):\n",
    "\tmodel.train()\n",
    "\ttotal_loss, correct, total = 0, 0, 0\n",
    "\tfor i, (data, labels) in enumerate(train_loader):\n",
    "\t\toptimizer.zero_grad()\n",
    "\t\toutputs = model(data)\n",
    "\t\tloss = criterion(outputs, labels)\n",
    "\t\t\n",
    "\t\tloss.backward()\n",
    "\t\toptimizer.step()\n",
    "\t\t\n",
    "\t\ttotal_loss += loss.item()\n",
    "\t\t_, predicted = torch.max(outputs.data, 1)\n",
    "\t\ttotal += labels.size(0)\n",
    "\t\t\n",
    "\t\tcorrect += (predicted == labels).sum().item()\n",
    "\t\tprogress = (i + 1) / len(train_loader) * 100\n",
    "\t\t\n",
    "\t\t# print(f'\\rEpoch [{epoch+1}/{num_epochs}] - Progress: {progress:.1f}%', end='')\n",
    "\n",
    "\tepoch_loss = total_loss / len(train_loader)\n",
    "\tepoch_accuracy = correct / total\n",
    "\n",
    "\t# print(f' - Loss: {epoch_loss:.4f} - Accuracy: {epoch_accuracy:.4f}')\n",
    "\n",
    "\t# Early Stopping Condition\n",
    "\tif epoch_loss < best_loss:\n",
    "\t\tbest_loss = epoch_loss\n",
    "\t\tepochs_without_improvement = 0\n",
    "\t\tprint(f\"Epoch [{epoch+1}/{num_epochs}] - Loss: {epoch_loss:.4f} - Accuracy: {epoch_accuracy:.4f}\")\n",
    "\telse:\n",
    "\t\tepochs_without_improvement += 1\n",
    "\t\tprint(f\"Epoch [{epoch+1}/{num_epochs}] - Loss: {epoch_loss:.4f} - Accuracy: {epoch_accuracy:.4f}\", end=\"\\r\")\n",
    "\t\n",
    "\tif epochs_without_improvement >= early_stopping_patience:\n",
    "\t\tprint(f\"Early stopping triggered at epoch {epoch+1} due to no improvement.\")\n",
    "\t\tbreak"
   ]
  },
  {
   "cell_type": "code",
   "execution_count": 28,
   "metadata": {},
   "outputs": [],
   "source": [
    "torch.save(model.state_dict(), f\"./models/{notebook}.pth\")"
   ]
  },
  {
   "cell_type": "markdown",
   "metadata": {},
   "source": [
    "-------------------\n",
    "\n",
    "## Evaluation"
   ]
  },
  {
   "cell_type": "code",
   "execution_count": 29,
   "metadata": {},
   "outputs": [
    {
     "name": "stdout",
     "output_type": "stream",
     "text": [
      "Accuracy: 0.9154\n",
      "F1 Score: 0.9009\n",
      "\n",
      "Classification Report:\n",
      "\n",
      "                            precision    recall  f1-score   support\n",
      "\n",
      "                  DoS Hulk       1.00      0.99      1.00       200\n",
      "                  PortScan       0.99      0.99      0.99       200\n",
      "                      DDoS       1.00      1.00      1.00       200\n",
      "             DoS GoldenEye       0.76      1.00      0.86       200\n",
      "               FTP-Patator       1.00      0.99      1.00       200\n",
      "               SSH-Patator       1.00      1.00      1.00       200\n",
      "             DoS slowloris       1.00      1.00      1.00       200\n",
      "          DoS Slowhttptest       1.00      0.99      1.00       200\n",
      "                       Bot       1.00      0.99      1.00       200\n",
      "  Web Attack � Brute Force       0.94      0.15      0.26       200\n",
      "          Web Attack � XSS       0.56      0.98      0.71       200\n",
      "              Infiltration       1.00      1.00      1.00       200\n",
      "Web Attack � Sql Injection       0.92      0.71      0.80       200\n",
      "                Heartbleed       1.00      1.00      1.00       200\n",
      "\n",
      "                  accuracy                           0.92      2800\n",
      "                 macro avg       0.94      0.92      0.90      2800\n",
      "              weighted avg       0.94      0.92      0.90      2800\n",
      "\n"
     ]
    }
   ],
   "source": [
    "model.eval()\n",
    "\n",
    "X_test_tensor = torch.tensor(X_test_balanced.values, dtype=torch.float32).to(device)\n",
    "y_test_tensor = torch.tensor(y_test_balanced.values, dtype=torch.long).to(device)\n",
    "\n",
    "with torch.no_grad():\n",
    "\toutputs = model(X_test_tensor)\n",
    "\t_, predicted = torch.max(outputs.data, 1)\n",
    "\n",
    "print(f\"Accuracy: {accuracy_score(y_test_tensor.cpu(), predicted.cpu()):.4f}\")\n",
    "print(f\"F1 Score: {f1_score(y_test_tensor.cpu(), predicted.cpu(), average=\"weighted\"):.4f}\")\n",
    "\n",
    "print(\"\\nClassification Report:\\n\")\n",
    "print(classification_report(y_test_tensor.cpu(), predicted.cpu(), target_names=attack_mapping))"
   ]
  }
 ],
 "metadata": {
  "kernelspec": {
   "display_name": "Python 3",
   "language": "python",
   "name": "python3"
  },
  "language_info": {
   "codemirror_mode": {
    "name": "ipython",
    "version": 3
   },
   "file_extension": ".py",
   "mimetype": "text/x-python",
   "name": "python",
   "nbconvert_exporter": "python",
   "pygments_lexer": "ipython3",
   "version": "3.12.9"
  }
 },
 "nbformat": 4,
 "nbformat_minor": 2
}
