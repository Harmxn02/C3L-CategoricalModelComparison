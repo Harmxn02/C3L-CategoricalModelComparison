{
 "cells": [
  {
   "cell_type": "markdown",
   "metadata": {},
   "source": [
    "# Categorical Model Comparison\n",
    "\n",
    "**only_attacks.ipynb**\n",
    "\n",
    "In this notebook we train a model only on attack data, and export the model for use in the **categorical_model_comparison.ipynb** notebook.\n",
    "\n",
    "We will use a CNN-GAN model described in this study: <https://www.jait.us/articles/2024/JAIT-V15N7-886.pdf>\n",
    "\n",
    "Our dataset is the CIC-IDS-2017 dataset"
   ]
  },
  {
   "cell_type": "code",
   "execution_count": 1,
   "metadata": {},
   "outputs": [],
   "source": [
    "notebook = \"only_attacks\""
   ]
  },
  {
   "cell_type": "code",
   "execution_count": 2,
   "metadata": {},
   "outputs": [],
   "source": [
    "import warnings\n",
    "from sklearn.exceptions import UndefinedMetricWarning\n",
    "warnings.filterwarnings(\"ignore\", category=UndefinedMetricWarning)"
   ]
  },
  {
   "cell_type": "markdown",
   "metadata": {},
   "source": [
    "## Step 1: Load the data"
   ]
  },
  {
   "cell_type": "code",
   "execution_count": 3,
   "metadata": {},
   "outputs": [],
   "source": [
    "import pandas as pd\n",
    "import numpy as np\n",
    "\n",
    "df = pd.read_csv(\"./data/concat.csv\")\n",
    "\n",
    "# Trim whitespace from column names\n",
    "df.columns = df.columns.str.strip()"
   ]
  },
  {
   "cell_type": "markdown",
   "metadata": {},
   "source": [
    "## Step 2: Preprocess the data"
   ]
  },
  {
   "cell_type": "markdown",
   "metadata": {},
   "source": [
    "### missing values"
   ]
  },
  {
   "cell_type": "code",
   "execution_count": 4,
   "metadata": {},
   "outputs": [
    {
     "data": {
      "text/plain": [
       "Flow Bytes/s                   1358\n",
       "Flow Duration                     0\n",
       "Destination Port                  0\n",
       "Total Backward Packets            0\n",
       "Total Length of Fwd Packets       0\n",
       "                               ... \n",
       "Idle Mean                         0\n",
       "Idle Std                          0\n",
       "Idle Max                          0\n",
       "Idle Min                          0\n",
       "Label                             0\n",
       "Length: 79, dtype: int64"
      ]
     },
     "execution_count": 4,
     "metadata": {},
     "output_type": "execute_result"
    }
   ],
   "source": [
    "df.isna().sum().sort_values(ascending=False)"
   ]
  },
  {
   "cell_type": "code",
   "execution_count": 5,
   "metadata": {},
   "outputs": [],
   "source": [
    "df.dropna(subset=[\"Flow Bytes/s\"], inplace=True)"
   ]
  },
  {
   "cell_type": "markdown",
   "metadata": {},
   "source": [
    "### Inf. values"
   ]
  },
  {
   "cell_type": "code",
   "execution_count": 6,
   "metadata": {},
   "outputs": [],
   "source": [
    "df = df.replace([np.inf, -np.inf], np.nan).dropna()"
   ]
  },
  {
   "cell_type": "code",
   "execution_count": 7,
   "metadata": {},
   "outputs": [
    {
     "data": {
      "text/plain": [
       "Destination Port               0\n",
       "Flow Duration                  0\n",
       "Total Fwd Packets              0\n",
       "Total Backward Packets         0\n",
       "Total Length of Fwd Packets    0\n",
       "                              ..\n",
       "Idle Mean                      0\n",
       "Idle Std                       0\n",
       "Idle Max                       0\n",
       "Idle Min                       0\n",
       "Label                          0\n",
       "Length: 79, dtype: int64"
      ]
     },
     "execution_count": 7,
     "metadata": {},
     "output_type": "execute_result"
    }
   ],
   "source": [
    "df.isna().sum().sort_values(ascending=False)"
   ]
  },
  {
   "cell_type": "markdown",
   "metadata": {},
   "source": [
    "## Step 3: Prepare the data for training"
   ]
  },
  {
   "cell_type": "markdown",
   "metadata": {},
   "source": [
    "### scaling numerical features"
   ]
  },
  {
   "cell_type": "code",
   "execution_count": 8,
   "metadata": {},
   "outputs": [],
   "source": [
    "from sklearn.preprocessing import MinMaxScaler\n",
    "\n",
    "numerical_columns = df.select_dtypes(include=\"number\").columns\n",
    "scaler = MinMaxScaler()\n",
    "df[numerical_columns] = scaler.fit_transform(df[numerical_columns])"
   ]
  },
  {
   "cell_type": "markdown",
   "metadata": {},
   "source": [
    "### map labels to multi-class"
   ]
  },
  {
   "cell_type": "markdown",
   "metadata": {},
   "source": [
    "**important**: Here we drop all the benign rows, so we are left with only the attacks."
   ]
  },
  {
   "cell_type": "code",
   "execution_count": 9,
   "metadata": {},
   "outputs": [
    {
     "data": {
      "text/plain": [
       "Label\n",
       "DoS Hulk                      230124\n",
       "PortScan                      158804\n",
       "DDoS                          128025\n",
       "DoS GoldenEye                  10293\n",
       "FTP-Patator                     7935\n",
       "SSH-Patator                     5897\n",
       "DoS slowloris                   5796\n",
       "DoS Slowhttptest                5499\n",
       "Bot                             1956\n",
       "Web Attack � Brute Force        1507\n",
       "Web Attack � XSS                 652\n",
       "Infiltration                      36\n",
       "Web Attack � Sql Injection        21\n",
       "Heartbleed                        11\n",
       "Name: count, dtype: int64"
      ]
     },
     "execution_count": 9,
     "metadata": {},
     "output_type": "execute_result"
    }
   ],
   "source": [
    "df = df[df[\"Label\"] != \"BENIGN\"]\n",
    "\n",
    "df[\"Label\"].value_counts()"
   ]
  },
  {
   "cell_type": "code",
   "execution_count": 10,
   "metadata": {},
   "outputs": [],
   "source": [
    "attack_mapping = {\n",
    "\t\"DoS Hulk\": 0,\n",
    "\t\"PortScan\": 1,\n",
    "\t\"DDoS\": 2,\n",
    "\t\"DoS GoldenEye\": 3,\n",
    "\t\"FTP-Patator\": 4,\n",
    "\t\"SSH-Patator\": 5,\n",
    "\t\"DoS slowloris\": 6,\n",
    "\t\"DoS Slowhttptest\": 7,\n",
    "\t\"Bot\": 8,\n",
    "\t\"Web Attack � Brute Force\": 9,\n",
    "\t\"Web Attack � XSS\": 10,\n",
    "\t\"Infiltration\": 11,\n",
    "\t\"Web Attack � Sql Injection\": 12,\n",
    "\t\"Heartbleed\": 13\n",
    "}\n",
    "\n",
    "df[\"Label\"] = df[\"Label\"].map(attack_mapping)"
   ]
  },
  {
   "cell_type": "code",
   "execution_count": 11,
   "metadata": {},
   "outputs": [
    {
     "data": {
      "text/plain": [
       "Label\n",
       "0     230124\n",
       "1     158804\n",
       "2     128025\n",
       "3      10293\n",
       "4       7935\n",
       "5       5897\n",
       "6       5796\n",
       "7       5499\n",
       "8       1956\n",
       "9       1507\n",
       "10       652\n",
       "11        36\n",
       "12        21\n",
       "13        11\n",
       "Name: count, dtype: int64"
      ]
     },
     "execution_count": 11,
     "metadata": {},
     "output_type": "execute_result"
    }
   ],
   "source": [
    "df[\"Label\"].value_counts()"
   ]
  },
  {
   "cell_type": "markdown",
   "metadata": {},
   "source": [
    "### data splitting"
   ]
  },
  {
   "cell_type": "code",
   "execution_count": 12,
   "metadata": {},
   "outputs": [],
   "source": [
    "X = df.drop(columns=[\"Label\"])\n",
    "y = df[\"Label\"]\n",
    "\n",
    "from sklearn.model_selection import train_test_split\n",
    "X_train, X_test, y_train, y_test = train_test_split(X, y, test_size=0.2, random_state=28)"
   ]
  },
  {
   "cell_type": "markdown",
   "metadata": {},
   "source": [
    "### data sampling"
   ]
  },
  {
   "cell_type": "code",
   "execution_count": 13,
   "metadata": {},
   "outputs": [],
   "source": [
    "# Undersample all values below 10.000\n",
    "from imblearn.under_sampling import RandomUnderSampler\n",
    "\n",
    "rus = RandomUnderSampler(sampling_strategy={\n",
    "\t0: 1000,\n",
    "\t1: 1000,\n",
    "\t2: 1000, \n",
    "\t3: 1000,\n",
    "\t4: 1000,\n",
    "\t5: 1000,\n",
    "\t6: 1000,\n",
    "\t7: 1000,\n",
    "\t8: 1000,\n",
    "\t9: 1000,\n",
    "}, random_state=28)\n",
    "\n",
    "X_train_balanced, y_train_balanced = rus.fit_resample(X_train, y_train)"
   ]
  },
  {
   "cell_type": "code",
   "execution_count": 14,
   "metadata": {},
   "outputs": [],
   "source": [
    "# Oversample all values below 10.000\n",
    "from imblearn.over_sampling import RandomOverSampler\n",
    "\n",
    "ros = RandomOverSampler(sampling_strategy={\n",
    "\t10: 1000,\n",
    "\t11: 1000,\n",
    "\t12: 1000,\n",
    "\t13: 1000\n",
    "}, random_state=28)\n",
    "\n",
    "X_train_balanced, y_train_balanced = ros.fit_resample(X_train_balanced, y_train_balanced)"
   ]
  },
  {
   "cell_type": "code",
   "execution_count": 15,
   "metadata": {},
   "outputs": [
    {
     "name": "stdout",
     "output_type": "stream",
     "text": [
      "Class distribution before SMOTE: Counter({0: 184016, 1: 127006, 2: 102562, 3: 8209, 4: 6376, 5: 4705, 6: 4559, 7: 4422, 8: 1582, 9: 1223, 10: 528, 11: 27, 12: 18, 13: 11})\n",
      "Class distribution after SMOTE: Counter({0: 1000, 1: 1000, 2: 1000, 3: 1000, 4: 1000, 5: 1000, 6: 1000, 7: 1000, 8: 1000, 9: 1000, 10: 1000, 11: 1000, 12: 1000, 13: 1000})\n"
     ]
    }
   ],
   "source": [
    "# Check class distribution after SMOTE\n",
    "from collections import Counter\n",
    "\n",
    "print(f\"Class distribution before SMOTE: {Counter(y_train)}\")\n",
    "print(f\"Class distribution after SMOTE: {Counter(y_train_balanced)}\")"
   ]
  },
  {
   "cell_type": "markdown",
   "metadata": {},
   "source": [
    "## Step 4: Train the model"
   ]
  },
  {
   "cell_type": "markdown",
   "metadata": {},
   "source": [
    "### 1. CNN Feature Extractor"
   ]
  },
  {
   "cell_type": "code",
   "execution_count": 16,
   "metadata": {},
   "outputs": [],
   "source": [
    "import torch\n",
    "import torch.nn as nn\n",
    "import torch.optim as optim\n",
    "\n",
    "from torch.utils.data import DataLoader, TensorDataset\n",
    "from sklearn.metrics import accuracy_score, f1_score, classification_report\n",
    "\n",
    "# Define CNN Feature Extractor\n",
    "class CNNFeatureExtractor(nn.Module):\n",
    "    def __init__(self, input_size, num_filters=32):\n",
    "        super(CNNFeatureExtractor, self).__init__()\n",
    "        self.conv1 = nn.Conv1d(in_channels=1, out_channels=num_filters, kernel_size=3, stride=1, padding=1)\n",
    "        self.relu = nn.ReLU()\n",
    "        self.pool = nn.MaxPool1d(kernel_size=2, stride=2)\n",
    "        self.flatten = nn.Flatten()\n",
    "        self.fc = nn.Linear((input_size // 2) * num_filters, 64)\n",
    "    \n",
    "    def forward(self, x):\n",
    "        x = x.unsqueeze(1)  # Add channel dimension\n",
    "        x = self.conv1(x)\n",
    "        x = self.relu(x)\n",
    "        x = self.pool(x)\n",
    "        x = self.flatten(x)\n",
    "        return self.fc(x)"
   ]
  },
  {
   "cell_type": "markdown",
   "metadata": {},
   "source": [
    "### 2. Generator-Discriminator"
   ]
  },
  {
   "cell_type": "code",
   "execution_count": 17,
   "metadata": {},
   "outputs": [],
   "source": [
    "# Define Generator\n",
    "class Generator(nn.Module):\n",
    "    def __init__(self, noise_dim, output_dim):\n",
    "        super(Generator, self).__init__()\n",
    "        self.model = nn.Sequential(\n",
    "            nn.Linear(noise_dim, 128),\n",
    "            nn.ReLU(),\n",
    "            nn.Linear(128, output_dim),\n",
    "            nn.Tanh()\n",
    "        )\n",
    "    \n",
    "    def forward(self, x):\n",
    "        return self.model(x)\n",
    "\n",
    "\n",
    "# Define Discriminator\n",
    "class Discriminator(nn.Module):\n",
    "    def __init__(self, input_dim):\n",
    "        super(Discriminator, self).__init__()\n",
    "        self.model = nn.Sequential(\n",
    "            nn.Linear(input_dim, 128),\n",
    "            nn.ReLU(),\n",
    "            nn.Linear(128, 1),\n",
    "            nn.Sigmoid()\n",
    "        )\n",
    "    \n",
    "    def forward(self, x):\n",
    "        return self.model(x)"
   ]
  },
  {
   "cell_type": "markdown",
   "metadata": {},
   "source": [
    "### 3. Define Hybrid Model"
   ]
  },
  {
   "cell_type": "code",
   "execution_count": 18,
   "metadata": {},
   "outputs": [],
   "source": [
    "# Define Hybrid Model\n",
    "class HybridCNNGAN(nn.Module):\n",
    "    def __init__(self, input_size, output_size, noise_dim=32):\n",
    "        super(HybridCNNGAN, self).__init__()\n",
    "        self.feature_extractor = CNNFeatureExtractor(input_size)\n",
    "        self.classifier = nn.Linear(64, output_size)\n",
    "        self.generator = Generator(noise_dim, input_size)\n",
    "        self.discriminator = Discriminator(input_size)\n",
    "    \n",
    "    def forward(self, x):\n",
    "        features = self.feature_extractor(x)\n",
    "        return self.classifier(features)"
   ]
  },
  {
   "cell_type": "code",
   "execution_count": 19,
   "metadata": {},
   "outputs": [
    {
     "name": "stdout",
     "output_type": "stream",
     "text": [
      "------------------------------\n",
      "Model Summary\n",
      "------------------------------\n",
      "HybridCNNGAN(\n",
      "  (feature_extractor): CNNFeatureExtractor(\n",
      "    (conv1): Conv1d(1, 32, kernel_size=(3,), stride=(1,), padding=(1,))\n",
      "    (relu): ReLU()\n",
      "    (pool): MaxPool1d(kernel_size=2, stride=2, padding=0, dilation=1, ceil_mode=False)\n",
      "    (flatten): Flatten(start_dim=1, end_dim=-1)\n",
      "    (fc): Linear(in_features=1248, out_features=64, bias=True)\n",
      "  )\n",
      "  (classifier): Linear(in_features=64, out_features=14, bias=True)\n",
      "  (generator): Generator(\n",
      "    (model): Sequential(\n",
      "      (0): Linear(in_features=32, out_features=128, bias=True)\n",
      "      (1): ReLU()\n",
      "      (2): Linear(in_features=128, out_features=78, bias=True)\n",
      "      (3): Tanh()\n",
      "    )\n",
      "  )\n",
      "  (discriminator): Discriminator(\n",
      "    (model): Sequential(\n",
      "      (0): Linear(in_features=78, out_features=128, bias=True)\n",
      "      (1): ReLU()\n",
      "      (2): Linear(in_features=128, out_features=1, bias=True)\n",
      "      (3): Sigmoid()\n",
      "    )\n",
      "  )\n",
      ")\n",
      "------------------------------\n",
      "Device: cuda\n",
      "------------------------------\n"
     ]
    }
   ],
   "source": [
    "# Initialize model\n",
    "input_size = X_train_balanced.shape[1]\n",
    "output_size = len(attack_mapping)\n",
    "device = torch.device(\"cuda\" if torch.cuda.is_available() else \"cpu\")\n",
    "model = HybridCNNGAN(input_size, output_size).to(device)\n",
    "\n",
    "print(\"-\"*30)\n",
    "print(\"Model Summary\")\n",
    "print(\"-\"*30)\n",
    "print(model)\n",
    "print(\"-\"*30)\n",
    "print(\"Device:\", device)\n",
    "print(\"-\"*30)"
   ]
  },
  {
   "cell_type": "markdown",
   "metadata": {},
   "source": [
    "### 4. Train the model"
   ]
  },
  {
   "cell_type": "code",
   "execution_count": 20,
   "metadata": {},
   "outputs": [
    {
     "name": "stdout",
     "output_type": "stream",
     "text": [
      "Epoch [1/1000] - Loss: 1.4767 - Accuracy: 0.5285\n",
      "Epoch [2/1000] - Loss: 0.7899 - Accuracy: 0.6985\n",
      "Epoch [3/1000] - Loss: 0.6573 - Accuracy: 0.7405\n",
      "Epoch [4/1000] - Loss: 0.5752 - Accuracy: 0.7698\n",
      "Epoch [5/1000] - Loss: 0.5140 - Accuracy: 0.7944\n",
      "Epoch [6/1000] - Loss: 0.4589 - Accuracy: 0.8221\n",
      "Epoch [7/1000] - Loss: 0.4215 - Accuracy: 0.8346\n",
      "Epoch [8/1000] - Loss: 0.3919 - Accuracy: 0.8423\n",
      "Epoch [9/1000] - Loss: 0.3737 - Accuracy: 0.8462\n",
      "Epoch [10/1000] - Loss: 0.3506 - Accuracy: 0.8528\n",
      "Epoch [11/1000] - Loss: 0.3471 - Accuracy: 0.8517\n",
      "Epoch [12/1000] - Loss: 0.3331 - Accuracy: 0.8561\n",
      "Epoch [13/1000] - Loss: 0.3187 - Accuracy: 0.8590\n",
      "Epoch [14/1000] - Loss: 0.3155 - Accuracy: 0.8582\n",
      "Epoch [15/1000] - Loss: 0.3109 - Accuracy: 0.8638\n",
      "Epoch [16/1000] - Loss: 0.3022 - Accuracy: 0.8645\n",
      "Epoch [17/1000] - Loss: 0.2940 - Accuracy: 0.8651\n",
      "Epoch [18/1000] - Loss: 0.2893 - Accuracy: 0.8686\n",
      "Epoch [19/1000] - Loss: 0.2859 - Accuracy: 0.8664\n",
      "Epoch [20/1000] - Loss: 0.2851 - Accuracy: 0.8669\n",
      "Epoch [21/1000] - Loss: 0.2768 - Accuracy: 0.8703\n",
      "Epoch [22/1000] - Loss: 0.2747 - Accuracy: 0.8679\n",
      "Epoch [23/1000] - Loss: 0.2678 - Accuracy: 0.8730\n",
      "Epoch [25/1000] - Loss: 0.2621 - Accuracy: 0.8743\n",
      "Epoch [28/1000] - Loss: 0.2616 - Accuracy: 0.8745\n",
      "Epoch [29/1000] - Loss: 0.2539 - Accuracy: 0.8751\n",
      "Epoch [32/1000] - Loss: 0.2511 - Accuracy: 0.8733\n",
      "Epoch [33/1000] - Loss: 0.2485 - Accuracy: 0.8753\n",
      "Epoch [34/1000] - Loss: 0.2474 - Accuracy: 0.8773\n",
      "Epoch [35/1000] - Loss: 0.2443 - Accuracy: 0.8751\n",
      "Epoch [36/1000] - Loss: 0.2360 - Accuracy: 0.8794\n",
      "Epoch [37/1000] - Loss: 0.2340 - Accuracy: 0.8796\n",
      "Epoch [40/1000] - Loss: 0.2326 - Accuracy: 0.8814\n",
      "Epoch [41/1000] - Loss: 0.2304 - Accuracy: 0.8839\n",
      "Epoch [42/1000] - Loss: 0.2279 - Accuracy: 0.8841\n",
      "Epoch [45/1000] - Loss: 0.2277 - Accuracy: 0.8843\n",
      "Epoch [46/1000] - Loss: 0.2268 - Accuracy: 0.8847\n",
      "Epoch [48/1000] - Loss: 0.2244 - Accuracy: 0.8832\n",
      "Epoch [49/1000] - Loss: 0.2170 - Accuracy: 0.8883\n",
      "Epoch [52/1000] - Loss: 0.2129 - Accuracy: 0.8901\n",
      "Epoch [55/1000] - Loss: 0.2113 - Accuracy: 0.8897\n",
      "Epoch [60/1000] - Loss: 0.2065 - Accuracy: 0.8897\n",
      "Epoch [63/1000] - Loss: 0.2046 - Accuracy: 0.8944\n",
      "Epoch [66/1000] - Loss: 0.2038 - Accuracy: 0.8908\n",
      "Epoch [71/1000] - Loss: 0.1997 - Accuracy: 0.8929\n",
      "Epoch [74/1000] - Loss: 0.1992 - Accuracy: 0.8954\n",
      "Epoch [76/1000] - Loss: 0.1974 - Accuracy: 0.8946\n",
      "Epoch [77/1000] - Loss: 0.1950 - Accuracy: 0.8976\n",
      "Epoch [82/1000] - Loss: 0.1931 - Accuracy: 0.8984\n",
      "Epoch [88/1000] - Loss: 0.1926 - Accuracy: 0.8955\n",
      "Epoch [92/1000] - Loss: 0.1906 - Accuracy: 0.8961\n",
      "Epoch [98/1000] - Loss: 0.1890 - Accuracy: 0.8996\n",
      "Epoch [103/1000] - Loss: 0.1887 - Accuracy: 0.8976\n",
      "Epoch [107/1000] - Loss: 0.1867 - Accuracy: 0.8993\n",
      "Epoch [114/1000] - Loss: 0.1855 - Accuracy: 0.8986\n",
      "Epoch [116/1000] - Loss: 0.1841 - Accuracy: 0.8997\n",
      "Epoch [119/1000] - Loss: 0.1828 - Accuracy: 0.8999\n",
      "Epoch [126/1000] - Loss: 0.1809 - Accuracy: 0.9019\n",
      "Epoch [132/1000] - Loss: 0.1803 - Accuracy: 0.9019\n",
      "Epoch [140/1000] - Loss: 0.1803 - Accuracy: 0.9005\n",
      "Epoch [143/1000] - Loss: 0.1790 - Accuracy: 0.9016\n",
      "Epoch [144/1000] - Loss: 0.1789 - Accuracy: 0.9020\n",
      "Epoch [146/1000] - Loss: 0.1788 - Accuracy: 0.9020\n",
      "Epoch [147/1000] - Loss: 0.1761 - Accuracy: 0.9094\n",
      "Epoch [150/1000] - Loss: 0.1757 - Accuracy: 0.9031\n",
      "Epoch [164/1000] - Loss: 0.1754 - Accuracy: 0.9054\n",
      "Epoch [167/1000] - Loss: 0.1729 - Accuracy: 0.9091\n",
      "Epoch [176/1000] - Loss: 0.1726 - Accuracy: 0.9067\n",
      "Epoch [178/1000] - Loss: 0.1722 - Accuracy: 0.9076\n",
      "Epoch [181/1000] - Loss: 0.1704 - Accuracy: 0.9111\n",
      "Epoch [194/1000] - Loss: 0.1700 - Accuracy: 0.9096\n",
      "Epoch [195/1000] - Loss: 0.1692 - Accuracy: 0.9104\n",
      "Epoch [196/1000] - Loss: 0.1677 - Accuracy: 0.9103\n",
      "Epoch [205/1000] - Loss: 0.1668 - Accuracy: 0.9136\n",
      "Epoch [211/1000] - Loss: 0.1660 - Accuracy: 0.9133\n",
      "Epoch [213/1000] - Loss: 0.1654 - Accuracy: 0.9144\n",
      "Epoch [220/1000] - Loss: 0.1644 - Accuracy: 0.9161\n",
      "Epoch [224/1000] - Loss: 0.1626 - Accuracy: 0.9144\n",
      "Epoch [227/1000] - Loss: 0.1618 - Accuracy: 0.9126\n",
      "Epoch [234/1000] - Loss: 0.1599 - Accuracy: 0.9178\n",
      "Epoch [242/1000] - Loss: 0.1591 - Accuracy: 0.9180\n",
      "Epoch [251/1000] - Loss: 0.1579 - Accuracy: 0.9183\n",
      "Epoch [252/1000] - Loss: 0.1578 - Accuracy: 0.9181\n",
      "Epoch [256/1000] - Loss: 0.1569 - Accuracy: 0.9206\n",
      "Epoch [259/1000] - Loss: 0.1564 - Accuracy: 0.9206\n",
      "Epoch [261/1000] - Loss: 0.1557 - Accuracy: 0.9213\n",
      "Epoch [265/1000] - Loss: 0.1537 - Accuracy: 0.9191\n",
      "Epoch [275/1000] - Loss: 0.1522 - Accuracy: 0.9209\n",
      "Epoch [276/1000] - Loss: 0.1511 - Accuracy: 0.9215\n",
      "Epoch [279/1000] - Loss: 0.1503 - Accuracy: 0.9248\n",
      "Epoch [281/1000] - Loss: 0.1501 - Accuracy: 0.9240\n",
      "Epoch [283/1000] - Loss: 0.1485 - Accuracy: 0.9259\n",
      "Epoch [289/1000] - Loss: 0.1476 - Accuracy: 0.9246\n",
      "Epoch [290/1000] - Loss: 0.1468 - Accuracy: 0.9231\n",
      "Epoch [293/1000] - Loss: 0.1468 - Accuracy: 0.9244\n",
      "Epoch [294/1000] - Loss: 0.1458 - Accuracy: 0.9302\n",
      "Epoch [296/1000] - Loss: 0.1455 - Accuracy: 0.9270\n",
      "Epoch [297/1000] - Loss: 0.1441 - Accuracy: 0.9290\n",
      "Epoch [301/1000] - Loss: 0.1440 - Accuracy: 0.9291\n",
      "Epoch [304/1000] - Loss: 0.1439 - Accuracy: 0.9289\n",
      "Epoch [305/1000] - Loss: 0.1400 - Accuracy: 0.9301\n",
      "Epoch [319/1000] - Loss: 0.1397 - Accuracy: 0.9306\n",
      "Epoch [322/1000] - Loss: 0.1394 - Accuracy: 0.9314\n",
      "Epoch [326/1000] - Loss: 0.1360 - Accuracy: 0.9336\n",
      "Epoch [332/1000] - Loss: 0.1343 - Accuracy: 0.9359\n",
      "Epoch [333/1000] - Loss: 0.1324 - Accuracy: 0.9363\n",
      "Epoch [336/1000] - Loss: 0.1312 - Accuracy: 0.9380\n",
      "Epoch [347/1000] - Loss: 0.1307 - Accuracy: 0.9339\n",
      "Epoch [349/1000] - Loss: 0.1294 - Accuracy: 0.9356\n",
      "Epoch [352/1000] - Loss: 0.1281 - Accuracy: 0.9374\n",
      "Epoch [356/1000] - Loss: 0.1277 - Accuracy: 0.9387\n",
      "Epoch [358/1000] - Loss: 0.1262 - Accuracy: 0.9373\n",
      "Epoch [371/1000] - Loss: 0.1246 - Accuracy: 0.9381\n",
      "Epoch [375/1000] - Loss: 0.1245 - Accuracy: 0.9396\n",
      "Epoch [378/1000] - Loss: 0.1237 - Accuracy: 0.9366\n",
      "Epoch [383/1000] - Loss: 0.1233 - Accuracy: 0.9396\n",
      "Epoch [386/1000] - Loss: 0.1219 - Accuracy: 0.9400\n",
      "Epoch [387/1000] - Loss: 0.1218 - Accuracy: 0.9370\n",
      "Epoch [391/1000] - Loss: 0.1195 - Accuracy: 0.9402\n",
      "Epoch [402/1000] - Loss: 0.1191 - Accuracy: 0.9398\n",
      "Epoch [409/1000] - Loss: 0.1174 - Accuracy: 0.9408\n",
      "Epoch [415/1000] - Loss: 0.1167 - Accuracy: 0.9393\n",
      "Epoch [436/1000] - Loss: 0.1161 - Accuracy: 0.9406\n",
      "Epoch [437/1000] - Loss: 0.1157 - Accuracy: 0.9422\n",
      "Epoch [446/1000] - Loss: 0.1150 - Accuracy: 0.9384\n",
      "Epoch [451/1000] - Loss: 0.1144 - Accuracy: 0.9411\n",
      "Epoch [471/1000] - Loss: 0.1140 - Accuracy: 0.9391\n",
      "Epoch [472/1000] - Loss: 0.1139 - Accuracy: 0.9390\n",
      "Epoch [474/1000] - Loss: 0.1132 - Accuracy: 0.9419\n",
      "Epoch [485/1000] - Loss: 0.1128 - Accuracy: 0.9389\n",
      "Epoch [490/1000] - Loss: 0.1123 - Accuracy: 0.9403\n",
      "Epoch [499/1000] - Loss: 0.1120 - Accuracy: 0.9402\n",
      "Epoch [514/1000] - Loss: 0.1120 - Accuracy: 0.9412\n",
      "Epoch [516/1000] - Loss: 0.1109 - Accuracy: 0.9406\n",
      "Epoch [549/1000] - Loss: 0.1105 - Accuracy: 0.9419\n",
      "Epoch [552/1000] - Loss: 0.1104 - Accuracy: 0.9429\n",
      "Epoch [564/1000] - Loss: 0.1100 - Accuracy: 0.9414\n",
      "Epoch [593/1000] - Loss: 0.1095 - Accuracy: 0.9408\n",
      "Epoch [600/1000] - Loss: 0.1093 - Accuracy: 0.9431\n",
      "Epoch [604/1000] - Loss: 0.1092 - Accuracy: 0.9419\n",
      "Epoch [621/1000] - Loss: 0.1085 - Accuracy: 0.9422\n",
      "Epoch [634/1000] - Loss: 0.1084 - Accuracy: 0.9416\n",
      "Epoch [667/1000] - Loss: 0.1082 - Accuracy: 0.9399\n",
      "Epoch [673/1000] - Loss: 0.1075 - Accuracy: 0.9446\n",
      "Epoch [679/1000] - Loss: 0.1074 - Accuracy: 0.9434\n",
      "Early stopping triggered at epoch 729 due to no improvement.\n"
     ]
    }
   ],
   "source": [
    "# Early stopping setup\n",
    "early_stopping_patience = 50\n",
    "best_loss = float(\"inf\")\n",
    "epochs_without_improvement = 0\n",
    "\n",
    "# Training Setup\n",
    "criterion = nn.CrossEntropyLoss()\n",
    "optimizer = optim.Adam(model.parameters(), lr=0.001)\n",
    "train_dataset = TensorDataset(torch.tensor(X_train_balanced.values, dtype=torch.float32).to(device),\n",
    "                              torch.tensor(y_train_balanced.values, dtype=torch.long).to(device))\n",
    "train_loader = DataLoader(train_dataset, batch_size=64, shuffle=True)\n",
    "\n",
    "# Training Loop\n",
    "num_epochs = 1000\n",
    "for epoch in range(num_epochs):\n",
    "\tmodel.train()\n",
    "\ttotal_loss, correct, total = 0, 0, 0\n",
    "\tfor i, (data, labels) in enumerate(train_loader):\n",
    "\t\toptimizer.zero_grad()\n",
    "\t\toutputs = model(data)\n",
    "\t\tloss = criterion(outputs, labels)\n",
    "\t\t\n",
    "\t\tloss.backward()\n",
    "\t\toptimizer.step()\n",
    "\t\t\n",
    "\t\ttotal_loss += loss.item()\n",
    "\t\t_, predicted = torch.max(outputs.data, 1)\n",
    "\t\ttotal += labels.size(0)\n",
    "\t\t\n",
    "\t\tcorrect += (predicted == labels).sum().item()\n",
    "\t\tprogress = (i + 1) / len(train_loader) * 100\n",
    "\t\t\n",
    "\t\t# print(f'\\rEpoch [{epoch+1}/{num_epochs}] - Progress: {progress:.1f}%', end='')\n",
    "\n",
    "\tepoch_loss = total_loss / len(train_loader)\n",
    "\tepoch_accuracy = correct / total\n",
    "\n",
    "\t# print(f' - Loss: {epoch_loss:.4f} - Accuracy: {epoch_accuracy:.4f}')\n",
    "\n",
    "\t# Early Stopping Condition\n",
    "\tif epoch_loss < best_loss:\n",
    "\t\tbest_loss = epoch_loss\n",
    "\t\tepochs_without_improvement = 0\n",
    "\t\tprint(f\"Epoch [{epoch+1}/{num_epochs}] - Loss: {epoch_loss:.4f} - Accuracy: {epoch_accuracy:.4f}\")\n",
    "\telse:\n",
    "\t\tepochs_without_improvement += 1\n",
    "\t\tprint(f\"Epoch [{epoch+1}/{num_epochs}] - Loss: {epoch_loss:.4f} - Accuracy: {epoch_accuracy:.4f}\", end=\"\\r\")\n",
    "\t\n",
    "\tif epochs_without_improvement >= early_stopping_patience:\n",
    "\t\tprint(f\"Early stopping triggered at epoch {epoch+1} due to no improvement.\")\n",
    "\t\tbreak"
   ]
  },
  {
   "cell_type": "code",
   "execution_count": 21,
   "metadata": {},
   "outputs": [],
   "source": [
    "torch.save(model.state_dict(), f\"./models/{notebook}.pth\")"
   ]
  }
 ],
 "metadata": {
  "kernelspec": {
   "display_name": "Python 3",
   "language": "python",
   "name": "python3"
  },
  "language_info": {
   "codemirror_mode": {
    "name": "ipython",
    "version": 3
   },
   "file_extension": ".py",
   "mimetype": "text/x-python",
   "name": "python",
   "nbconvert_exporter": "python",
   "pygments_lexer": "ipython3",
   "version": "3.12.9"
  }
 },
 "nbformat": 4,
 "nbformat_minor": 2
}
